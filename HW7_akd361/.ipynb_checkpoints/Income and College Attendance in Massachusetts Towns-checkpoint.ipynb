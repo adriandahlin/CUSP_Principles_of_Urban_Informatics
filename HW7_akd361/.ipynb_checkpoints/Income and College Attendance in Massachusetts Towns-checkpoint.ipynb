{
 "cells": [
  {
   "cell_type": "code",
   "execution_count": 132,
   "metadata": {
    "collapsed": false
   },
   "outputs": [
    {
     "name": "stdout",
     "output_type": "stream",
     "text": [
      "Populating the interactive namespace from numpy and matplotlib\n"
     ]
    }
   ],
   "source": [
    "from __future__ import print_function, division\n",
    "import geopandas as gp\n",
    "import pandas as pd\n",
    "import numpy as np\n",
    "import pylab as pl\n",
    "import matplotlib.pyplot as plt\n",
    "import os\n",
    "import json\n",
    "import seaborn\n",
    "import statsmodels.api as sm\n",
    "from pandas.tools.plotting import scatter_matrix\n",
    "\n",
    "%pylab inline"
   ]
  },
  {
   "cell_type": "code",
   "execution_count": 133,
   "metadata": {
    "collapsed": false
   },
   "outputs": [
    {
     "data": {
      "text/html": [
       "<div>\n",
       "<table border=\"1\" class=\"dataframe\">\n",
       "  <thead>\n",
       "    <tr style=\"text-align: right;\">\n",
       "      <th></th>\n",
       "      <th>Id</th>\n",
       "      <th>Id2</th>\n",
       "      <th>Geography</th>\n",
       "      <th>Target Geo Id</th>\n",
       "      <th>Target Geo Id2</th>\n",
       "      <th>Geographic Area</th>\n",
       "      <th>Dollar</th>\n",
       "      <th>Margin of Error</th>\n",
       "      <th>Geographic Area.1</th>\n",
       "    </tr>\n",
       "  </thead>\n",
       "  <tbody>\n",
       "    <tr>\n",
       "      <th>0</th>\n",
       "      <td>0100000US</td>\n",
       "      <td>NaN</td>\n",
       "      <td>United States</td>\n",
       "      <td>1600000US2500135</td>\n",
       "      <td>2500135</td>\n",
       "      <td>United States - Massachusetts - Abington CDP</td>\n",
       "      <td>87139</td>\n",
       "      <td>6492</td>\n",
       "      <td>Abington</td>\n",
       "    </tr>\n",
       "    <tr>\n",
       "      <th>1</th>\n",
       "      <td>0100000US</td>\n",
       "      <td>NaN</td>\n",
       "      <td>United States</td>\n",
       "      <td>1600000US2500530</td>\n",
       "      <td>2500530</td>\n",
       "      <td>United States - Massachusetts - Acushnet Cente...</td>\n",
       "      <td>71667</td>\n",
       "      <td>12877</td>\n",
       "      <td>Acushnet</td>\n",
       "    </tr>\n",
       "    <tr>\n",
       "      <th>2</th>\n",
       "      <td>0100000US</td>\n",
       "      <td>NaN</td>\n",
       "      <td>United States</td>\n",
       "      <td>1600000US2500590</td>\n",
       "      <td>2500590</td>\n",
       "      <td>United States - Massachusetts - Adams CDP</td>\n",
       "      <td>55093</td>\n",
       "      <td>15995</td>\n",
       "      <td>Adams</td>\n",
       "    </tr>\n",
       "    <tr>\n",
       "      <th>3</th>\n",
       "      <td>0100000US</td>\n",
       "      <td>NaN</td>\n",
       "      <td>United States</td>\n",
       "      <td>1600000US2500840</td>\n",
       "      <td>2500840</td>\n",
       "      <td>United States - Massachusetts - Agawam Town city</td>\n",
       "      <td>77969</td>\n",
       "      <td>4094</td>\n",
       "      <td>Agawam</td>\n",
       "    </tr>\n",
       "    <tr>\n",
       "      <th>4</th>\n",
       "      <td>0100000US</td>\n",
       "      <td>NaN</td>\n",
       "      <td>United States</td>\n",
       "      <td>1600000US2501260</td>\n",
       "      <td>2501260</td>\n",
       "      <td>United States - Massachusetts - Amesbury Town ...</td>\n",
       "      <td>95963</td>\n",
       "      <td>8325</td>\n",
       "      <td>Amesbury</td>\n",
       "    </tr>\n",
       "  </tbody>\n",
       "</table>\n",
       "</div>"
      ],
      "text/plain": [
       "          Id  Id2      Geography     Target Geo Id  Target Geo Id2  \\\n",
       "0  0100000US  NaN  United States  1600000US2500135         2500135   \n",
       "1  0100000US  NaN  United States  1600000US2500530         2500530   \n",
       "2  0100000US  NaN  United States  1600000US2500590         2500590   \n",
       "3  0100000US  NaN  United States  1600000US2500840         2500840   \n",
       "4  0100000US  NaN  United States  1600000US2501260         2501260   \n",
       "\n",
       "                                     Geographic Area Dollar Margin of Error  \\\n",
       "0       United States - Massachusetts - Abington CDP  87139            6492   \n",
       "1  United States - Massachusetts - Acushnet Cente...  71667           12877   \n",
       "2          United States - Massachusetts - Adams CDP  55093           15995   \n",
       "3   United States - Massachusetts - Agawam Town city  77969            4094   \n",
       "4  United States - Massachusetts - Amesbury Town ...  95963            8325   \n",
       "\n",
       "  Geographic Area.1  \n",
       "0         Abington   \n",
       "1        Acushnet    \n",
       "2            Adams   \n",
       "3          Agawam    \n",
       "4        Amesbury    "
      ]
     },
     "execution_count": 133,
     "metadata": {},
     "output_type": "execute_result"
    }
   ],
   "source": [
    "# creating variable for median income data\n",
    "\n",
    "incomedata = pd.read_csv('median income by town in MA.csv')\n",
    "incomedata.head()"
   ]
  },
  {
   "cell_type": "code",
   "execution_count": 134,
   "metadata": {
    "collapsed": false
   },
   "outputs": [
    {
     "data": {
      "text/html": [
       "<div>\n",
       "<table border=\"1\" class=\"dataframe\">\n",
       "  <thead>\n",
       "    <tr style=\"text-align: right;\">\n",
       "      <th></th>\n",
       "      <th>Dollar</th>\n",
       "      <th>Margin of Error</th>\n",
       "      <th>Geographic Area.1</th>\n",
       "    </tr>\n",
       "  </thead>\n",
       "  <tbody>\n",
       "    <tr>\n",
       "      <th>0</th>\n",
       "      <td>87139</td>\n",
       "      <td>6492</td>\n",
       "      <td>Abington</td>\n",
       "    </tr>\n",
       "    <tr>\n",
       "      <th>1</th>\n",
       "      <td>71667</td>\n",
       "      <td>12877</td>\n",
       "      <td>Acushnet</td>\n",
       "    </tr>\n",
       "    <tr>\n",
       "      <th>2</th>\n",
       "      <td>55093</td>\n",
       "      <td>15995</td>\n",
       "      <td>Adams</td>\n",
       "    </tr>\n",
       "    <tr>\n",
       "      <th>3</th>\n",
       "      <td>77969</td>\n",
       "      <td>4094</td>\n",
       "      <td>Agawam</td>\n",
       "    </tr>\n",
       "    <tr>\n",
       "      <th>4</th>\n",
       "      <td>95963</td>\n",
       "      <td>8325</td>\n",
       "      <td>Amesbury</td>\n",
       "    </tr>\n",
       "  </tbody>\n",
       "</table>\n",
       "</div>"
      ],
      "text/plain": [
       "  Dollar Margin of Error Geographic Area.1\n",
       "0  87139            6492         Abington \n",
       "1  71667           12877        Acushnet  \n",
       "2  55093           15995            Adams \n",
       "3  77969            4094          Agawam  \n",
       "4  95963            8325        Amesbury  "
      ]
     },
     "execution_count": 134,
     "metadata": {},
     "output_type": "execute_result"
    }
   ],
   "source": [
    "# dropping unneeded columns\n",
    "\n",
    "incomedata.drop(['Id', 'Id2', 'Geography', 'Target Geo Id', 'Target Geo Id2', 'Geographic Area'], axis=1, inplace=True)\n",
    "incomedata.head()"
   ]
  },
  {
   "cell_type": "code",
   "execution_count": 135,
   "metadata": {
    "collapsed": false
   },
   "outputs": [
    {
     "data": {
      "text/plain": [
       "'Abington '"
      ]
     },
     "execution_count": 135,
     "metadata": {},
     "output_type": "execute_result"
    }
   ],
   "source": [
    "# checking formatting\n",
    "\n",
    "incomedata['Geographic Area.1'].values[0]"
   ]
  },
  {
   "cell_type": "code",
   "execution_count": 136,
   "metadata": {
    "collapsed": false
   },
   "outputs": [
    {
     "data": {
      "text/plain": [
       "'Abington'"
      ]
     },
     "execution_count": 136,
     "metadata": {},
     "output_type": "execute_result"
    }
   ],
   "source": [
    "# advice from FBB:\n",
    "# use the strip() method of strings and the apply function to remove the spaces at the end of the names of each district\n",
    "\n",
    "# incomedata.strip(incomedata['Geographic Area.1'])\n",
    "\n",
    "incomedata['Geographic Area.1'] = incomedata['Geographic Area.1'].map(lambda x: x.lstrip().rstrip(' '))\n",
    "incomedata['Geographic Area.1'].values[0]"
   ]
  },
  {
   "cell_type": "code",
   "execution_count": 137,
   "metadata": {
    "collapsed": false
   },
   "outputs": [],
   "source": [
    "# renaming the column we're going to use for the merge\n",
    "\n",
    "incomedata.rename(columns={'Geographic Area.1': 'Town'}, inplace=True)"
   ]
  },
  {
   "cell_type": "code",
   "execution_count": 138,
   "metadata": {
    "collapsed": false
   },
   "outputs": [],
   "source": [
    "# importing education data\n",
    "\n",
    "educationdata = pd.read_csv('Graduates_Attending_College_by_Town_2012.csv')"
   ]
  },
  {
   "cell_type": "code",
   "execution_count": 139,
   "metadata": {
    "collapsed": false
   },
   "outputs": [
    {
     "data": {
      "text/html": [
       "<div>\n",
       "<table border=\"1\" class=\"dataframe\">\n",
       "  <thead>\n",
       "    <tr style=\"text-align: right;\">\n",
       "      <th></th>\n",
       "      <th>Graduating Year</th>\n",
       "      <th>District Code</th>\n",
       "      <th>District Name</th>\n",
       "      <th>In/Out-of-State</th>\n",
       "      <th>Student Group</th>\n",
       "      <th># High School Graduates</th>\n",
       "      <th># Attending Coll./Univ.</th>\n",
       "      <th>% Attending Coll./Univ.</th>\n",
       "      <th>% Private Two-Year</th>\n",
       "      <th>% Private Four-Year</th>\n",
       "      <th>% Public Two-Year</th>\n",
       "      <th>% Public Four-Year</th>\n",
       "      <th>% MA Community College</th>\n",
       "      <th>% MA State University</th>\n",
       "      <th>% Univ. of Mass.</th>\n",
       "    </tr>\n",
       "  </thead>\n",
       "  <tbody>\n",
       "    <tr>\n",
       "      <th>0</th>\n",
       "      <td>2012</td>\n",
       "      <td>10000</td>\n",
       "      <td>Abington</td>\n",
       "      <td>All Colleges</td>\n",
       "      <td>All Students</td>\n",
       "      <td>115</td>\n",
       "      <td>90.0</td>\n",
       "      <td>78.30%</td>\n",
       "      <td>0%</td>\n",
       "      <td>26.70%</td>\n",
       "      <td>37.80%</td>\n",
       "      <td>35.60%</td>\n",
       "      <td>36.70%</td>\n",
       "      <td>18.90%</td>\n",
       "      <td>11.10%</td>\n",
       "    </tr>\n",
       "    <tr>\n",
       "      <th>1</th>\n",
       "      <td>2012</td>\n",
       "      <td>30000</td>\n",
       "      <td>Acushnet</td>\n",
       "      <td>All Colleges</td>\n",
       "      <td>All Students</td>\n",
       "      <td>1</td>\n",
       "      <td>NaN</td>\n",
       "      <td>NaN</td>\n",
       "      <td>NaN</td>\n",
       "      <td>NaN</td>\n",
       "      <td>NaN</td>\n",
       "      <td>NaN</td>\n",
       "      <td>NaN</td>\n",
       "      <td>NaN</td>\n",
       "      <td>NaN</td>\n",
       "    </tr>\n",
       "    <tr>\n",
       "      <th>2</th>\n",
       "      <td>2012</td>\n",
       "      <td>50000</td>\n",
       "      <td>Agawam</td>\n",
       "      <td>All Colleges</td>\n",
       "      <td>All Students</td>\n",
       "      <td>301</td>\n",
       "      <td>246.0</td>\n",
       "      <td>81.70%</td>\n",
       "      <td>0%</td>\n",
       "      <td>30.50%</td>\n",
       "      <td>40.70%</td>\n",
       "      <td>28.90%</td>\n",
       "      <td>39%</td>\n",
       "      <td>13.80%</td>\n",
       "      <td>9.30%</td>\n",
       "    </tr>\n",
       "    <tr>\n",
       "      <th>3</th>\n",
       "      <td>2012</td>\n",
       "      <td>70000</td>\n",
       "      <td>Amesbury</td>\n",
       "      <td>All Colleges</td>\n",
       "      <td>All Students</td>\n",
       "      <td>135</td>\n",
       "      <td>109.0</td>\n",
       "      <td>80.70%</td>\n",
       "      <td>0%</td>\n",
       "      <td>23.90%</td>\n",
       "      <td>37.60%</td>\n",
       "      <td>38.50%</td>\n",
       "      <td>34.90%</td>\n",
       "      <td>7.30%</td>\n",
       "      <td>15.60%</td>\n",
       "    </tr>\n",
       "    <tr>\n",
       "      <th>4</th>\n",
       "      <td>2012</td>\n",
       "      <td>90000</td>\n",
       "      <td>Andover</td>\n",
       "      <td>All Colleges</td>\n",
       "      <td>All Students</td>\n",
       "      <td>430</td>\n",
       "      <td>390.0</td>\n",
       "      <td>90.70%</td>\n",
       "      <td>0%</td>\n",
       "      <td>53.80%</td>\n",
       "      <td>11.30%</td>\n",
       "      <td>34.90%</td>\n",
       "      <td>10.80%</td>\n",
       "      <td>4.90%</td>\n",
       "      <td>14.40%</td>\n",
       "    </tr>\n",
       "  </tbody>\n",
       "</table>\n",
       "</div>"
      ],
      "text/plain": [
       "   Graduating Year  District Code District Name In/Out-of-State Student Group  \\\n",
       "0             2012          10000      Abington    All Colleges  All Students   \n",
       "1             2012          30000      Acushnet    All Colleges  All Students   \n",
       "2             2012          50000        Agawam    All Colleges  All Students   \n",
       "3             2012          70000      Amesbury    All Colleges  All Students   \n",
       "4             2012          90000       Andover    All Colleges  All Students   \n",
       "\n",
       "   # High School Graduates  # Attending Coll./Univ. % Attending Coll./Univ.  \\\n",
       "0                      115                     90.0                  78.30%   \n",
       "1                        1                      NaN                     NaN   \n",
       "2                      301                    246.0                  81.70%   \n",
       "3                      135                    109.0                  80.70%   \n",
       "4                      430                    390.0                  90.70%   \n",
       "\n",
       "  % Private Two-Year % Private Four-Year % Public Two-Year % Public Four-Year  \\\n",
       "0                 0%              26.70%            37.80%             35.60%   \n",
       "1                NaN                 NaN               NaN                NaN   \n",
       "2                 0%              30.50%            40.70%             28.90%   \n",
       "3                 0%              23.90%            37.60%             38.50%   \n",
       "4                 0%              53.80%            11.30%             34.90%   \n",
       "\n",
       "  % MA Community College % MA State University % Univ. of Mass.  \n",
       "0                 36.70%                18.90%           11.10%  \n",
       "1                    NaN                   NaN              NaN  \n",
       "2                    39%                13.80%            9.30%  \n",
       "3                 34.90%                 7.30%           15.60%  \n",
       "4                 10.80%                 4.90%           14.40%  "
      ]
     },
     "execution_count": 139,
     "metadata": {},
     "output_type": "execute_result"
    }
   ],
   "source": [
    "educationdata.head()"
   ]
  },
  {
   "cell_type": "code",
   "execution_count": 140,
   "metadata": {
    "collapsed": false
   },
   "outputs": [
    {
     "data": {
      "text/plain": [
       "'Abington'"
      ]
     },
     "execution_count": 140,
     "metadata": {},
     "output_type": "execute_result"
    }
   ],
   "source": [
    "educationdata['District Name'].values[0]"
   ]
  },
  {
   "cell_type": "code",
   "execution_count": 141,
   "metadata": {
    "collapsed": false
   },
   "outputs": [
    {
     "data": {
      "text/plain": [
       "Index([u'Graduating Year', u'District Code', u'District Name',\n",
       "       u'In/Out-of-State', u'Student Group', u'# High School Graduates',\n",
       "       u'# Attending Coll./Univ.', u'% Attending Coll./Univ.',\n",
       "       u'% Private Two-Year', u'% Private Four-Year', u'% Public Two-Year',\n",
       "       u'% Public Four-Year', u'% MA Community College',\n",
       "       u'% MA State University', u'% Univ. of Mass.'],\n",
       "      dtype='object')"
      ]
     },
     "execution_count": 141,
     "metadata": {},
     "output_type": "execute_result"
    }
   ],
   "source": [
    "educationdata.columns"
   ]
  },
  {
   "cell_type": "code",
   "execution_count": 142,
   "metadata": {
    "collapsed": false
   },
   "outputs": [
    {
     "data": {
      "text/html": [
       "<div>\n",
       "<table border=\"1\" class=\"dataframe\">\n",
       "  <thead>\n",
       "    <tr style=\"text-align: right;\">\n",
       "      <th></th>\n",
       "      <th>District Name</th>\n",
       "      <th># High School Graduates</th>\n",
       "      <th># Attending Coll./Univ.</th>\n",
       "      <th>% Attending Coll./Univ.</th>\n",
       "      <th>% Private Four-Year</th>\n",
       "      <th>% Public Four-Year</th>\n",
       "    </tr>\n",
       "  </thead>\n",
       "  <tbody>\n",
       "    <tr>\n",
       "      <th>0</th>\n",
       "      <td>Abington</td>\n",
       "      <td>115</td>\n",
       "      <td>90.0</td>\n",
       "      <td>78.30%</td>\n",
       "      <td>26.70%</td>\n",
       "      <td>35.60%</td>\n",
       "    </tr>\n",
       "    <tr>\n",
       "      <th>1</th>\n",
       "      <td>Acushnet</td>\n",
       "      <td>1</td>\n",
       "      <td>NaN</td>\n",
       "      <td>NaN</td>\n",
       "      <td>NaN</td>\n",
       "      <td>NaN</td>\n",
       "    </tr>\n",
       "    <tr>\n",
       "      <th>2</th>\n",
       "      <td>Agawam</td>\n",
       "      <td>301</td>\n",
       "      <td>246.0</td>\n",
       "      <td>81.70%</td>\n",
       "      <td>30.50%</td>\n",
       "      <td>28.90%</td>\n",
       "    </tr>\n",
       "    <tr>\n",
       "      <th>3</th>\n",
       "      <td>Amesbury</td>\n",
       "      <td>135</td>\n",
       "      <td>109.0</td>\n",
       "      <td>80.70%</td>\n",
       "      <td>23.90%</td>\n",
       "      <td>38.50%</td>\n",
       "    </tr>\n",
       "    <tr>\n",
       "      <th>4</th>\n",
       "      <td>Andover</td>\n",
       "      <td>430</td>\n",
       "      <td>390.0</td>\n",
       "      <td>90.70%</td>\n",
       "      <td>53.80%</td>\n",
       "      <td>34.90%</td>\n",
       "    </tr>\n",
       "  </tbody>\n",
       "</table>\n",
       "</div>"
      ],
      "text/plain": [
       "  District Name  # High School Graduates  # Attending Coll./Univ.  \\\n",
       "0      Abington                      115                     90.0   \n",
       "1      Acushnet                        1                      NaN   \n",
       "2        Agawam                      301                    246.0   \n",
       "3      Amesbury                      135                    109.0   \n",
       "4       Andover                      430                    390.0   \n",
       "\n",
       "  % Attending Coll./Univ. % Private Four-Year % Public Four-Year  \n",
       "0                  78.30%              26.70%             35.60%  \n",
       "1                     NaN                 NaN                NaN  \n",
       "2                  81.70%              30.50%             28.90%  \n",
       "3                  80.70%              23.90%             38.50%  \n",
       "4                  90.70%              53.80%             34.90%  "
      ]
     },
     "execution_count": 142,
     "metadata": {},
     "output_type": "execute_result"
    }
   ],
   "source": [
    "#eliminating columns we don't need\n",
    "\n",
    "educationdata.drop([u'Graduating Year', u'District Code',\n",
    "       u'In/Out-of-State', u'Student Group',\n",
    "       u'% Private Two-Year', u'% Public Two-Year', u'% MA Community College',\n",
    "       u'% MA State University', u'% Univ. of Mass.'], axis=1, inplace=True)\n",
    "educationdata.head()"
   ]
  },
  {
   "cell_type": "code",
   "execution_count": 143,
   "metadata": {
    "collapsed": false
   },
   "outputs": [
    {
     "data": {
      "text/html": [
       "<div>\n",
       "<table border=\"1\" class=\"dataframe\">\n",
       "  <thead>\n",
       "    <tr style=\"text-align: right;\">\n",
       "      <th></th>\n",
       "      <th>Town</th>\n",
       "      <th># High School Graduates</th>\n",
       "      <th># Attending Coll./Univ.</th>\n",
       "      <th>% Attending Coll./Univ.</th>\n",
       "      <th>% Private Four-Year</th>\n",
       "      <th>% Public Four-Year</th>\n",
       "    </tr>\n",
       "  </thead>\n",
       "  <tbody>\n",
       "    <tr>\n",
       "      <th>0</th>\n",
       "      <td>Abington</td>\n",
       "      <td>115</td>\n",
       "      <td>90.0</td>\n",
       "      <td>78.30%</td>\n",
       "      <td>26.70%</td>\n",
       "      <td>35.60%</td>\n",
       "    </tr>\n",
       "    <tr>\n",
       "      <th>1</th>\n",
       "      <td>Acushnet</td>\n",
       "      <td>1</td>\n",
       "      <td>NaN</td>\n",
       "      <td>NaN</td>\n",
       "      <td>NaN</td>\n",
       "      <td>NaN</td>\n",
       "    </tr>\n",
       "    <tr>\n",
       "      <th>2</th>\n",
       "      <td>Agawam</td>\n",
       "      <td>301</td>\n",
       "      <td>246.0</td>\n",
       "      <td>81.70%</td>\n",
       "      <td>30.50%</td>\n",
       "      <td>28.90%</td>\n",
       "    </tr>\n",
       "    <tr>\n",
       "      <th>3</th>\n",
       "      <td>Amesbury</td>\n",
       "      <td>135</td>\n",
       "      <td>109.0</td>\n",
       "      <td>80.70%</td>\n",
       "      <td>23.90%</td>\n",
       "      <td>38.50%</td>\n",
       "    </tr>\n",
       "    <tr>\n",
       "      <th>4</th>\n",
       "      <td>Andover</td>\n",
       "      <td>430</td>\n",
       "      <td>390.0</td>\n",
       "      <td>90.70%</td>\n",
       "      <td>53.80%</td>\n",
       "      <td>34.90%</td>\n",
       "    </tr>\n",
       "  </tbody>\n",
       "</table>\n",
       "</div>"
      ],
      "text/plain": [
       "       Town  # High School Graduates  # Attending Coll./Univ.  \\\n",
       "0  Abington                      115                     90.0   \n",
       "1  Acushnet                        1                      NaN   \n",
       "2    Agawam                      301                    246.0   \n",
       "3  Amesbury                      135                    109.0   \n",
       "4   Andover                      430                    390.0   \n",
       "\n",
       "  % Attending Coll./Univ. % Private Four-Year % Public Four-Year  \n",
       "0                  78.30%              26.70%             35.60%  \n",
       "1                     NaN                 NaN                NaN  \n",
       "2                  81.70%              30.50%             28.90%  \n",
       "3                  80.70%              23.90%             38.50%  \n",
       "4                  90.70%              53.80%             34.90%  "
      ]
     },
     "execution_count": 143,
     "metadata": {},
     "output_type": "execute_result"
    }
   ],
   "source": [
    "# renaming the corresponding column we're going to use for the merge\n",
    "\n",
    "educationdata.rename(columns={'District Name': 'Town'}, inplace=True)\n",
    "educationdata.head()"
   ]
  },
  {
   "cell_type": "code",
   "execution_count": 144,
   "metadata": {
    "collapsed": false
   },
   "outputs": [
    {
     "data": {
      "text/html": [
       "<div>\n",
       "<table border=\"1\" class=\"dataframe\">\n",
       "  <thead>\n",
       "    <tr style=\"text-align: right;\">\n",
       "      <th></th>\n",
       "      <th>Dollar</th>\n",
       "      <th>Margin of Error</th>\n",
       "      <th>Town</th>\n",
       "    </tr>\n",
       "  </thead>\n",
       "  <tbody>\n",
       "    <tr>\n",
       "      <th>0</th>\n",
       "      <td>87139</td>\n",
       "      <td>6492</td>\n",
       "      <td>Abington</td>\n",
       "    </tr>\n",
       "    <tr>\n",
       "      <th>1</th>\n",
       "      <td>71667</td>\n",
       "      <td>12877</td>\n",
       "      <td>Acushnet</td>\n",
       "    </tr>\n",
       "    <tr>\n",
       "      <th>2</th>\n",
       "      <td>55093</td>\n",
       "      <td>15995</td>\n",
       "      <td>Adams</td>\n",
       "    </tr>\n",
       "    <tr>\n",
       "      <th>3</th>\n",
       "      <td>77969</td>\n",
       "      <td>4094</td>\n",
       "      <td>Agawam</td>\n",
       "    </tr>\n",
       "    <tr>\n",
       "      <th>4</th>\n",
       "      <td>95963</td>\n",
       "      <td>8325</td>\n",
       "      <td>Amesbury</td>\n",
       "    </tr>\n",
       "  </tbody>\n",
       "</table>\n",
       "</div>"
      ],
      "text/plain": [
       "  Dollar Margin of Error      Town\n",
       "0  87139            6492  Abington\n",
       "1  71667           12877  Acushnet\n",
       "2  55093           15995     Adams\n",
       "3  77969            4094    Agawam\n",
       "4  95963            8325  Amesbury"
      ]
     },
     "execution_count": 144,
     "metadata": {},
     "output_type": "execute_result"
    }
   ],
   "source": [
    "incomedata.head()"
   ]
  },
  {
   "cell_type": "code",
   "execution_count": 145,
   "metadata": {
    "collapsed": false
   },
   "outputs": [
    {
     "data": {
      "text/html": [
       "<div>\n",
       "<table border=\"1\" class=\"dataframe\">\n",
       "  <thead>\n",
       "    <tr style=\"text-align: right;\">\n",
       "      <th></th>\n",
       "      <th>Dollar</th>\n",
       "      <th>Margin of Error</th>\n",
       "      <th>Town</th>\n",
       "      <th># High School Graduates</th>\n",
       "      <th># Attending Coll./Univ.</th>\n",
       "      <th>% Attending Coll./Univ.</th>\n",
       "      <th>% Private Four-Year</th>\n",
       "      <th>% Public Four-Year</th>\n",
       "    </tr>\n",
       "  </thead>\n",
       "  <tbody>\n",
       "    <tr>\n",
       "      <th>0</th>\n",
       "      <td>87139</td>\n",
       "      <td>6492</td>\n",
       "      <td>Abington</td>\n",
       "      <td>115</td>\n",
       "      <td>90.0</td>\n",
       "      <td>78.30%</td>\n",
       "      <td>26.70%</td>\n",
       "      <td>35.60%</td>\n",
       "    </tr>\n",
       "    <tr>\n",
       "      <th>1</th>\n",
       "      <td>71667</td>\n",
       "      <td>12877</td>\n",
       "      <td>Acushnet</td>\n",
       "      <td>1</td>\n",
       "      <td>NaN</td>\n",
       "      <td>NaN</td>\n",
       "      <td>NaN</td>\n",
       "      <td>NaN</td>\n",
       "    </tr>\n",
       "    <tr>\n",
       "      <th>2</th>\n",
       "      <td>77969</td>\n",
       "      <td>4094</td>\n",
       "      <td>Agawam</td>\n",
       "      <td>301</td>\n",
       "      <td>246.0</td>\n",
       "      <td>81.70%</td>\n",
       "      <td>30.50%</td>\n",
       "      <td>28.90%</td>\n",
       "    </tr>\n",
       "    <tr>\n",
       "      <th>3</th>\n",
       "      <td>95963</td>\n",
       "      <td>8325</td>\n",
       "      <td>Amesbury</td>\n",
       "      <td>135</td>\n",
       "      <td>109.0</td>\n",
       "      <td>80.70%</td>\n",
       "      <td>23.90%</td>\n",
       "      <td>38.50%</td>\n",
       "    </tr>\n",
       "    <tr>\n",
       "      <th>4</th>\n",
       "      <td>108517</td>\n",
       "      <td>12557</td>\n",
       "      <td>Andover</td>\n",
       "      <td>430</td>\n",
       "      <td>390.0</td>\n",
       "      <td>90.70%</td>\n",
       "      <td>53.80%</td>\n",
       "      <td>34.90%</td>\n",
       "    </tr>\n",
       "  </tbody>\n",
       "</table>\n",
       "</div>"
      ],
      "text/plain": [
       "   Dollar Margin of Error      Town  # High School Graduates  \\\n",
       "0   87139            6492  Abington                      115   \n",
       "1   71667           12877  Acushnet                        1   \n",
       "2   77969            4094    Agawam                      301   \n",
       "3   95963            8325  Amesbury                      135   \n",
       "4  108517           12557   Andover                      430   \n",
       "\n",
       "   # Attending Coll./Univ. % Attending Coll./Univ. % Private Four-Year  \\\n",
       "0                     90.0                  78.30%              26.70%   \n",
       "1                      NaN                     NaN                 NaN   \n",
       "2                    246.0                  81.70%              30.50%   \n",
       "3                    109.0                  80.70%              23.90%   \n",
       "4                    390.0                  90.70%              53.80%   \n",
       "\n",
       "  % Public Four-Year  \n",
       "0             35.60%  \n",
       "1                NaN  \n",
       "2             28.90%  \n",
       "3             38.50%  \n",
       "4             34.90%  "
      ]
     },
     "execution_count": 145,
     "metadata": {},
     "output_type": "execute_result"
    }
   ],
   "source": [
    "# merge\n",
    "\n",
    "merge1 = pd.merge(incomedata, educationdata, how='inner', on=['Town'])\n",
    "merge1.head()"
   ]
  },
  {
   "cell_type": "code",
   "execution_count": 146,
   "metadata": {
    "collapsed": false
   },
   "outputs": [
    {
     "data": {
      "text/html": [
       "<div>\n",
       "<table border=\"1\" class=\"dataframe\">\n",
       "  <thead>\n",
       "    <tr style=\"text-align: right;\">\n",
       "      <th></th>\n",
       "      <th>Dollar</th>\n",
       "      <th>Margin of Error</th>\n",
       "      <th>Town</th>\n",
       "      <th># High School Graduates</th>\n",
       "      <th># Attending Coll./Univ.</th>\n",
       "      <th>% Attending Coll./Univ.</th>\n",
       "      <th>% Private Four-Year</th>\n",
       "      <th>% Public Four-Year</th>\n",
       "    </tr>\n",
       "  </thead>\n",
       "  <tbody>\n",
       "    <tr>\n",
       "      <th>0</th>\n",
       "      <td>87139</td>\n",
       "      <td>6492</td>\n",
       "      <td>Abington</td>\n",
       "      <td>115</td>\n",
       "      <td>90.0</td>\n",
       "      <td>78.30%</td>\n",
       "      <td>26.70%</td>\n",
       "      <td>35.60%</td>\n",
       "    </tr>\n",
       "    <tr>\n",
       "      <th>2</th>\n",
       "      <td>77969</td>\n",
       "      <td>4094</td>\n",
       "      <td>Agawam</td>\n",
       "      <td>301</td>\n",
       "      <td>246.0</td>\n",
       "      <td>81.70%</td>\n",
       "      <td>30.50%</td>\n",
       "      <td>28.90%</td>\n",
       "    </tr>\n",
       "    <tr>\n",
       "      <th>3</th>\n",
       "      <td>95963</td>\n",
       "      <td>8325</td>\n",
       "      <td>Amesbury</td>\n",
       "      <td>135</td>\n",
       "      <td>109.0</td>\n",
       "      <td>80.70%</td>\n",
       "      <td>23.90%</td>\n",
       "      <td>38.50%</td>\n",
       "    </tr>\n",
       "    <tr>\n",
       "      <th>4</th>\n",
       "      <td>108517</td>\n",
       "      <td>12557</td>\n",
       "      <td>Andover</td>\n",
       "      <td>430</td>\n",
       "      <td>390.0</td>\n",
       "      <td>90.70%</td>\n",
       "      <td>53.80%</td>\n",
       "      <td>34.90%</td>\n",
       "    </tr>\n",
       "    <tr>\n",
       "      <th>5</th>\n",
       "      <td>111086</td>\n",
       "      <td>4441</td>\n",
       "      <td>Arlington</td>\n",
       "      <td>278</td>\n",
       "      <td>241.0</td>\n",
       "      <td>86.70%</td>\n",
       "      <td>55.20%</td>\n",
       "      <td>29.90%</td>\n",
       "    </tr>\n",
       "  </tbody>\n",
       "</table>\n",
       "</div>"
      ],
      "text/plain": [
       "   Dollar Margin of Error       Town  # High School Graduates  \\\n",
       "0   87139            6492   Abington                      115   \n",
       "2   77969            4094     Agawam                      301   \n",
       "3   95963            8325   Amesbury                      135   \n",
       "4  108517           12557    Andover                      430   \n",
       "5  111086            4441  Arlington                      278   \n",
       "\n",
       "   # Attending Coll./Univ. % Attending Coll./Univ. % Private Four-Year  \\\n",
       "0                     90.0                  78.30%              26.70%   \n",
       "2                    246.0                  81.70%              30.50%   \n",
       "3                    109.0                  80.70%              23.90%   \n",
       "4                    390.0                  90.70%              53.80%   \n",
       "5                    241.0                  86.70%              55.20%   \n",
       "\n",
       "  % Public Four-Year  \n",
       "0             35.60%  \n",
       "2             28.90%  \n",
       "3             38.50%  \n",
       "4             34.90%  \n",
       "5             29.90%  "
      ]
     },
     "execution_count": 146,
     "metadata": {},
     "output_type": "execute_result"
    }
   ],
   "source": [
    "merge = merge1.dropna()\n",
    "merge.head()"
   ]
  },
  {
   "cell_type": "code",
   "execution_count": 147,
   "metadata": {
    "collapsed": false
   },
   "outputs": [
    {
     "data": {
      "text/html": [
       "<div>\n",
       "<table border=\"1\" class=\"dataframe\">\n",
       "  <thead>\n",
       "    <tr style=\"text-align: right;\">\n",
       "      <th></th>\n",
       "      <th>Median Income</th>\n",
       "      <th>Margin of Error</th>\n",
       "      <th>Town</th>\n",
       "      <th># High School Graduates</th>\n",
       "      <th># Attending Coll./Univ.</th>\n",
       "      <th>% Attending Coll./Univ.</th>\n",
       "      <th>% Private Four-Year</th>\n",
       "      <th>% Public Four-Year</th>\n",
       "    </tr>\n",
       "  </thead>\n",
       "  <tbody>\n",
       "    <tr>\n",
       "      <th>0</th>\n",
       "      <td>87139</td>\n",
       "      <td>6492</td>\n",
       "      <td>Abington</td>\n",
       "      <td>115</td>\n",
       "      <td>90.0</td>\n",
       "      <td>78.30%</td>\n",
       "      <td>26.70%</td>\n",
       "      <td>35.60%</td>\n",
       "    </tr>\n",
       "    <tr>\n",
       "      <th>2</th>\n",
       "      <td>77969</td>\n",
       "      <td>4094</td>\n",
       "      <td>Agawam</td>\n",
       "      <td>301</td>\n",
       "      <td>246.0</td>\n",
       "      <td>81.70%</td>\n",
       "      <td>30.50%</td>\n",
       "      <td>28.90%</td>\n",
       "    </tr>\n",
       "    <tr>\n",
       "      <th>3</th>\n",
       "      <td>95963</td>\n",
       "      <td>8325</td>\n",
       "      <td>Amesbury</td>\n",
       "      <td>135</td>\n",
       "      <td>109.0</td>\n",
       "      <td>80.70%</td>\n",
       "      <td>23.90%</td>\n",
       "      <td>38.50%</td>\n",
       "    </tr>\n",
       "    <tr>\n",
       "      <th>4</th>\n",
       "      <td>108517</td>\n",
       "      <td>12557</td>\n",
       "      <td>Andover</td>\n",
       "      <td>430</td>\n",
       "      <td>390.0</td>\n",
       "      <td>90.70%</td>\n",
       "      <td>53.80%</td>\n",
       "      <td>34.90%</td>\n",
       "    </tr>\n",
       "    <tr>\n",
       "      <th>5</th>\n",
       "      <td>111086</td>\n",
       "      <td>4441</td>\n",
       "      <td>Arlington</td>\n",
       "      <td>278</td>\n",
       "      <td>241.0</td>\n",
       "      <td>86.70%</td>\n",
       "      <td>55.20%</td>\n",
       "      <td>29.90%</td>\n",
       "    </tr>\n",
       "  </tbody>\n",
       "</table>\n",
       "</div>"
      ],
      "text/plain": [
       "  Median Income Margin of Error       Town  # High School Graduates  \\\n",
       "0         87139            6492   Abington                      115   \n",
       "2         77969            4094     Agawam                      301   \n",
       "3         95963            8325   Amesbury                      135   \n",
       "4        108517           12557    Andover                      430   \n",
       "5        111086            4441  Arlington                      278   \n",
       "\n",
       "   # Attending Coll./Univ. % Attending Coll./Univ. % Private Four-Year  \\\n",
       "0                     90.0                  78.30%              26.70%   \n",
       "2                    246.0                  81.70%              30.50%   \n",
       "3                    109.0                  80.70%              23.90%   \n",
       "4                    390.0                  90.70%              53.80%   \n",
       "5                    241.0                  86.70%              55.20%   \n",
       "\n",
       "  % Public Four-Year  \n",
       "0             35.60%  \n",
       "2             28.90%  \n",
       "3             38.50%  \n",
       "4             34.90%  \n",
       "5             29.90%  "
      ]
     },
     "execution_count": 147,
     "metadata": {},
     "output_type": "execute_result"
    }
   ],
   "source": [
    "merge.rename(columns={'Dollar': 'Median Income'}, inplace=True)\n",
    "merge.head()"
   ]
  },
  {
   "cell_type": "code",
   "execution_count": 148,
   "metadata": {
    "collapsed": false
   },
   "outputs": [
    {
     "data": {
      "text/plain": [
       "'250,000+'"
      ]
     },
     "execution_count": 148,
     "metadata": {},
     "output_type": "execute_result"
    }
   ],
   "source": [
    "# got one problem cell showing '200,000+', need to get rid of comma and plus sign\n",
    "merge['Median Income'].values[23]"
   ]
  },
  {
   "cell_type": "code",
   "execution_count": 149,
   "metadata": {
    "collapsed": false
   },
   "outputs": [
    {
     "name": "stderr",
     "output_type": "stream",
     "text": [
      "/opt/rh/anaconda/root/envs/PUI2016_Python2/lib/python2.7/site-packages/ipykernel/__main__.py:1: SettingWithCopyWarning: \n",
      "A value is trying to be set on a copy of a slice from a DataFrame.\n",
      "Try using .loc[row_indexer,col_indexer] = value instead\n",
      "\n",
      "See the caveats in the documentation: http://pandas.pydata.org/pandas-docs/stable/indexing.html#indexing-view-versus-copy\n",
      "  if __name__ == '__main__':\n"
     ]
    }
   ],
   "source": [
    "merge['Median Income'] = merge['Median Income'].map(lambda x: x.rstrip('+'))\n",
    "# unsuccessfully tried variations of replace and strip to get rid of the comma, resorting to removing the row"
   ]
  },
  {
   "cell_type": "code",
   "execution_count": 150,
   "metadata": {
    "collapsed": false
   },
   "outputs": [
    {
     "data": {
      "text/plain": [
       "array(['76578', '6459', 'Easthampton', 104, 72.0, '69.20%', '22.20%',\n",
       "       '29.20%'], dtype=object)"
      ]
     },
     "execution_count": 150,
     "metadata": {},
     "output_type": "execute_result"
    }
   ],
   "source": [
    "merge = merge[merge.Town != \"Duxbury\"]\n",
    "merge.values[23]"
   ]
  },
  {
   "cell_type": "code",
   "execution_count": 157,
   "metadata": {
    "collapsed": false
   },
   "outputs": [],
   "source": [
    "merge['% Attending Coll./Univ.'] = merge['% Attending Coll./Univ.'].map(lambda x: x.rstrip('%'))"
   ]
  },
  {
   "cell_type": "code",
   "execution_count": 153,
   "metadata": {
    "collapsed": false
   },
   "outputs": [
    {
     "data": {
      "text/plain": [
       "array([[<matplotlib.axes._subplots.AxesSubplot object at 0x7f1a5b17d910>,\n",
       "        <matplotlib.axes._subplots.AxesSubplot object at 0x7f1a5b42b250>],\n",
       "       [<matplotlib.axes._subplots.AxesSubplot object at 0x7f1a5b2590d0>,\n",
       "        <matplotlib.axes._subplots.AxesSubplot object at 0x7f1a5b155bd0>]], dtype=object)"
      ]
     },
     "execution_count": 153,
     "metadata": {},
     "output_type": "execute_result"
    },
    {
     "data": {
      "image/png": "[encoded data removed]",
      "text/plain": [
       "<matplotlib.figure.Figure at 0x7f1a90e9be50>"
      ]
     },
     "metadata": {},
     "output_type": "display_data"
    }
   ],
   "source": [
    "# scatter matrix out of curiosity\n",
    "scatter_matrix (merge, s=50, figsize=(6, 6))"
   ]
  },
  {
   "cell_type": "code",
   "execution_count": 154,
   "metadata": {
    "collapsed": false
   },
   "outputs": [],
   "source": [
    "# creating variables to plot\n",
    "\n",
    "income = merge['Median Income']\n",
    "college = merge['% Attending Coll./Univ.']"
   ]
  },
  {
   "cell_type": "code",
   "execution_count": 177,
   "metadata": {
    "collapsed": false,
    "scrolled": true
   },
   "outputs": [
    {
     "data": {
      "image/png": "[encoded data removed]",
      "text/plain": [
       "<matplotlib.figure.Figure at 0x7f1a5ac80250>"
      ]
     },
     "metadata": {},
     "output_type": "display_data"
    }
   ],
   "source": [
    "fig, ax = plt.subplots()\n",
    "fig.set_size_inches(6,4)\n",
    "ax.plot(income, college, '.', label='=  Massachusetts Towns')\n",
    "ax.set_title('Relationship Between Income and College Attendance in Towns in Massachusetts')\n",
    "ax.set_ylabel('% Attending Coll./Univ.', fontsize=18)\n",
    "ax.set_xlabel('Median Income', fontsize=18)\n",
    "plt.legend(loc=4)\n",
    "plt.show()"
   ]
  }
 ],
 "metadata": {
  "kernelspec": {
   "display_name": "PUI2016_Python2",
   "language": "python",
   "name": "pui2016_python2"
  },
  "language_info": {
   "codemirror_mode": {
    "name": "ipython",
    "version": 2
   },
   "file_extension": ".py",
   "mimetype": "text/x-python",
   "name": "python",
   "nbconvert_exporter": "python",
   "pygments_lexer": "ipython2",
   "version": "2.7.12"
  }
 },
 "nbformat": 4,
 "nbformat_minor": 0
}
