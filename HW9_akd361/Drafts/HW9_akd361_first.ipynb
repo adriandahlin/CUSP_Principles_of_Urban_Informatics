{
 "cells": [
  {
   "cell_type": "markdown",
   "metadata": {},
   "source": [
    "got help from Jordan Vani"
   ]
  },
  {
   "cell_type": "code",
   "execution_count": 68,
   "metadata": {
    "collapsed": false
   },
   "outputs": [],
   "source": [
    "import os\n",
    "import numpy as np\n",
    "import pandas as pd\n",
    "from pandas import DataFrame\n",
    "import datetime as dt\n",
    "import seaborn as sns\n",
    "import matplotlib.pyplot as pl\n",
    "import matplotlib.pylab as plt\n",
    "from geopandas import GeoDataFrame\n",
    "import statsmodels.api as sm\n",
    "from scipy import stats\n",
    "from scipy.signal import argrelextrema\n",
    "from sklearn.cluster import KMeans\n",
    "from sklearn.decomposition import PCA\n",
    "from sklearn.metrics import silhouette_samples, silhouette_score\n",
    "%matplotlib inline"
   ]
  },
  {
   "cell_type": "markdown",
   "metadata": {},
   "source": [
    "# Downloading MTA Ridership Data"
   ]
  },
  {
   "cell_type": "code",
   "execution_count": 54,
   "metadata": {
    "collapsed": false
   },
   "outputs": [
    {
     "data": {
      "text/plain": [
       "array([[[56961, 64703, 68002, ..., 36527, 33929, 36824],\n",
       "        [ 1732,  2083,  2107, ...,  1264,  1172,  1238],\n",
       "        [  203,   276,   245, ...,   186,   167,   167],\n",
       "        ..., \n",
       "        [    0,     0,     0, ...,     0,     0,     0],\n",
       "        [    0,     0,     0, ...,     0,     0,     0],\n",
       "        [   -1,    -1,    -1, ...,  1121,  1377,   712]],\n",
       "\n",
       "       [[16210, 20179, 21769, ...,    -1,    -1,    -1],\n",
       "        [  503,   647,   665, ...,    -1,    -1,    -1],\n",
       "        [   41,    43,    44, ...,    -1,    -1,    -1],\n",
       "        ..., \n",
       "        [    0,     0,     0, ...,    -1,    -1,    -1],\n",
       "        [    0,     0,     0, ...,    -1,    -1,    -1],\n",
       "        [   -1,    -1,    -1, ...,    -1,    -1,    -1]],\n",
       "\n",
       "       [[ 3292,  3429,  3629, ...,  3746,  3406,  3217],\n",
       "        [  110,    92,   102, ...,   212,   209,   211],\n",
       "        [    7,     6,    13, ...,    26,    20,    22],\n",
       "        ..., \n",
       "        [    0,     0,     0, ...,     0,     0,     0],\n",
       "        [    0,     0,     0, ...,     0,     0,     0],\n",
       "        [   -1,    -1,    -1, ...,   573,   761,   288]],\n",
       "\n",
       "       ..., \n",
       "       [[   -1,    -1,    -1, ...,    -1,    -1,    -1],\n",
       "        [   -1,    -1,    -1, ...,    -1,    -1,    -1],\n",
       "        [   -1,    -1,    -1, ...,    -1,    -1,    -1],\n",
       "        ..., \n",
       "        [   -1,    -1,    -1, ...,    -1,    -1,    -1],\n",
       "        [   -1,    -1,    -1, ...,    -1,    -1,    -1],\n",
       "        [   -1,    -1,    -1, ...,    -1,    -1,    -1]],\n",
       "\n",
       "       [[   -1,    -1,    -1, ...,    -1,    -1,    -1],\n",
       "        [   -1,    -1,    -1, ...,    -1,    -1,    -1],\n",
       "        [   -1,    -1,    -1, ...,    -1,    -1,    -1],\n",
       "        ..., \n",
       "        [   -1,    -1,    -1, ...,    -1,    -1,    -1],\n",
       "        [   -1,    -1,    -1, ...,    -1,    -1,    -1],\n",
       "        [   -1,    -1,    -1, ...,    -1,    -1,    -1]],\n",
       "\n",
       "       [[   -1,    -1,    -1, ...,    -1,    -1,    -1],\n",
       "        [   -1,    -1,    -1, ...,    -1,    -1,    -1],\n",
       "        [   -1,    -1,    -1, ...,    -1,    -1,    -1],\n",
       "        ..., \n",
       "        [   -1,    -1,    -1, ...,    -1,    -1,    -1],\n",
       "        [   -1,    -1,    -1, ...,    -1,    -1,    -1],\n",
       "        [   -1,    -1,    -1, ...,    -1,    -1,    -1]]], dtype=int32)"
      ]
     },
     "execution_count": 54,
     "metadata": {},
     "output_type": "execute_result"
    }
   ],
   "source": [
    "rides = np.load(\"MTA_Fare.npy\")\n",
    "rides"
   ]
  },
  {
   "cell_type": "code",
   "execution_count": 23,
   "metadata": {
    "collapsed": false
   },
   "outputs": [
    {
     "data": {
      "text/plain": [
       "2157.8262034961899"
      ]
     },
     "execution_count": 23,
     "metadata": {},
     "output_type": "execute_result"
    }
   ],
   "source": [
    "np.mean(rides)"
   ]
  },
  {
   "cell_type": "code",
   "execution_count": 24,
   "metadata": {
    "collapsed": false
   },
   "outputs": [
    {
     "data": {
      "text/plain": [
       "(600, 23, 194)"
      ]
     },
     "execution_count": 24,
     "metadata": {},
     "output_type": "execute_result"
    }
   ],
   "source": [
    "rides.shape"
   ]
  },
  {
   "cell_type": "markdown",
   "metadata": {},
   "source": [
    "600 stations, 23 card types, 194 weeks?"
   ]
  },
  {
   "cell_type": "markdown",
   "metadata": {},
   "source": [
    "# replacing -1 with NaN"
   ]
  },
  {
   "cell_type": "code",
   "execution_count": 33,
   "metadata": {
    "collapsed": false
   },
   "outputs": [],
   "source": [
    "# trying a method found online, not working\n",
    "# def replaceNoData(rides, :\n",
    "    # for n, i in enumerate(array):\n",
    "        # if i == -1:\n",
    "            # scanBlock[n] = np.nan"
   ]
  },
  {
   "cell_type": "code",
   "execution_count": 42,
   "metadata": {
    "collapsed": false
   },
   "outputs": [],
   "source": [
    "# Jordan's method\n",
    "data = np.empty(rides.shape, dtype='float')\n",
    "\n",
    "for index, arr in enumerate(rides):\n",
    "    data[index] = arr.astype('float')\n",
    "    \n",
    "for arr in data:\n",
    "    arr[arr == -1] = np.nan"
   ]
  },
  {
   "cell_type": "code",
   "execution_count": 40,
   "metadata": {
    "collapsed": false
   },
   "outputs": [],
   "source": [
    "data"
   ]
  },
  {
   "cell_type": "code",
   "execution_count": 43,
   "metadata": {
    "collapsed": false
   },
   "outputs": [
    {
     "data": {
      "text/plain": [
       "2849.4162786534275"
      ]
     },
     "execution_count": 43,
     "metadata": {},
     "output_type": "execute_result"
    }
   ],
   "source": [
    "np.nanmean(data)"
   ]
  },
  {
   "cell_type": "code",
   "execution_count": 46,
   "metadata": {
    "collapsed": false
   },
   "outputs": [
    {
     "data": {
      "text/plain": [
       "31.0"
      ]
     },
     "execution_count": 46,
     "metadata": {},
     "output_type": "execute_result"
    }
   ],
   "source": [
    "np.nanmedian(data)"
   ]
  },
  {
   "cell_type": "markdown",
   "metadata": {},
   "source": [
    "# Task 1: Detecting Major Event"
   ]
  },
  {
   "cell_type": "code",
   "execution_count": 49,
   "metadata": {
    "collapsed": true
   },
   "outputs": [],
   "source": [
    "# Finding number of riders per week\n",
    "card_types = np.nansum(data, axis=1)\n",
    "weekly_rides = np.nansum(card_types, axis=0)"
   ]
  },
  {
   "cell_type": "code",
   "execution_count": 50,
   "metadata": {
    "collapsed": false
   },
   "outputs": [
    {
     "data": {
      "text/plain": [
       "194"
      ]
     },
     "execution_count": 50,
     "metadata": {},
     "output_type": "execute_result"
    }
   ],
   "source": [
    "# should be equal to number of weeks\n",
    "len(weekly_rides)"
   ]
  },
  {
   "cell_type": "code",
   "execution_count": 51,
   "metadata": {
    "collapsed": false
   },
   "outputs": [
    {
     "data": {
      "text/plain": [
       "(array([176]),)"
      ]
     },
     "execution_count": 51,
     "metadata": {},
     "output_type": "execute_result"
    }
   ],
   "source": [
    "# max occurs in week 176\n",
    "np.where(weekly_rides == max(weekly_rides))"
   ]
  },
  {
   "cell_type": "code",
   "execution_count": 52,
   "metadata": {
    "collapsed": false
   },
   "outputs": [
    {
     "data": {
      "text/plain": [
       "(array([126]),)"
      ]
     },
     "execution_count": 52,
     "metadata": {},
     "output_type": "execute_result"
    }
   ],
   "source": [
    "# min occurs in week 126\n",
    "np.where(weekly_rides == min(weekly_rides))"
   ]
  },
  {
   "cell_type": "markdown",
   "metadata": {},
   "source": [
    "need to figure out what these real dates are"
   ]
  },
  {
   "cell_type": "markdown",
   "metadata": {},
   "source": [
    "start date is 05/21/2010 - taking a method from Jordan for how to calculate from there"
   ]
  },
  {
   "cell_type": "code",
   "execution_count": 56,
   "metadata": {
    "collapsed": false
   },
   "outputs": [
    {
     "name": "stdout",
     "output_type": "stream",
     "text": [
      "2013-10-04\n"
     ]
    }
   ],
   "source": [
    "# calculating date of max event\n",
    "\n",
    "def eventdate(numberofweeks):\n",
    "    \"\"\"Calculates new date from startdate given weeks.\n",
    "    Arguments:\n",
    "    deltaweek - how many weeks since startdate (int)\n",
    "    \"\"\"\n",
    "    startdate = dt.datetime.strptime('05/21/2010', '%m/%d/%Y')\n",
    "    dweek = dt.timedelta(weeks=numberofweeks)\n",
    "    return (startdate + dweek).date()\n",
    "    \n",
    "print eventdate(176)"
   ]
  },
  {
   "cell_type": "markdown",
   "metadata": {},
   "source": [
    "first page of Google results shows no major events in NYC on October 4, 2013 other than Twitter's IPO"
   ]
  },
  {
   "cell_type": "code",
   "execution_count": 59,
   "metadata": {
    "collapsed": false
   },
   "outputs": [
    {
     "name": "stdout",
     "output_type": "stream",
     "text": [
      "2012-10-19\n"
     ]
    }
   ],
   "source": [
    "# now calculating date of min event\n",
    "\n",
    "print eventdate(126)"
   ]
  },
  {
   "cell_type": "code",
   "execution_count": 60,
   "metadata": {
    "collapsed": false
   },
   "outputs": [
    {
     "name": "stdout",
     "output_type": "stream",
     "text": [
      "2012-10-26\n"
     ]
    }
   ],
   "source": [
    "# didn't find anything for this date, then saw that Jordan had gotten a different result for the min\n",
    "# (126 weeks, to 2012-10-26), so I'm going with his date. Google search quickly finds that Hurricane Sandy hit NYC\n",
    "# EDIT LATER: realized I didn't account for the 0th value, so 127 made sense after the function above output 126\n",
    "\n",
    "print eventdate(127)"
   ]
  },
  {
   "cell_type": "markdown",
   "metadata": {},
   "source": [
    "trying the boxplot shown in the lab"
   ]
  },
  {
   "cell_type": "code",
   "execution_count": 77,
   "metadata": {
    "collapsed": false
   },
   "outputs": [
    {
     "ename": "AttributeError",
     "evalue": "'numpy.ndarray' object has no attribute 'boxplot'",
     "output_type": "error",
     "traceback": [
      "\u001b[0;31m\u001b[0m",
      "\u001b[0;31mAttributeError\u001b[0mTraceback (most recent call last)",
      "\u001b[0;32m<ipython-input-77-531d96376a73>\u001b[0m in \u001b[0;36m<module>\u001b[0;34m()\u001b[0m\n\u001b[1;32m      4\u001b[0m \u001b[0;31m#wr_copy=weekly_rides.copy()\u001b[0m\u001b[0;34m\u001b[0m\u001b[0;34m\u001b[0m\u001b[0m\n\u001b[1;32m      5\u001b[0m \u001b[0;31m#wr_copy.index=wr_copy.index.strftime(\"%B %Y\")\u001b[0m\u001b[0;34m\u001b[0m\u001b[0;34m\u001b[0m\u001b[0m\n\u001b[0;32m----> 6\u001b[0;31m \u001b[0mweekly_rides\u001b[0m\u001b[0;34m.\u001b[0m\u001b[0mboxplot\u001b[0m\u001b[0;34m(\u001b[0m\u001b[0mfigsize\u001b[0m\u001b[0;34m=\u001b[0m\u001b[0;34m(\u001b[0m\u001b[0;36m15\u001b[0m\u001b[0;34m,\u001b[0m\u001b[0;36m7\u001b[0m\u001b[0;34m)\u001b[0m\u001b[0;34m,\u001b[0m\u001b[0max\u001b[0m\u001b[0;34m=\u001b[0m\u001b[0max\u001b[0m\u001b[0;34m,\u001b[0m\u001b[0mrot\u001b[0m\u001b[0;34m=\u001b[0m\u001b[0;36m90\u001b[0m\u001b[0;34m)\u001b[0m\u001b[0;34m;\u001b[0m\u001b[0;34m\u001b[0m\u001b[0m\n\u001b[0m\u001b[1;32m      7\u001b[0m \u001b[0;31m#ax.set_ylim([-200,16000])\u001b[0m\u001b[0;34m\u001b[0m\u001b[0;34m\u001b[0m\u001b[0m\n",
      "\u001b[0;31mAttributeError\u001b[0m: 'numpy.ndarray' object has no attribute 'boxplot'"
     ]
    },
    {
     "data": {
      "image/png": "[encoded data removed]",
      "text/plain": [
       "<matplotlib.figure.Figure at 0x7f1a02c52d10>"
      ]
     },
     "metadata": {},
     "output_type": "display_data"
    }
   ],
   "source": [
    "plt.rcParams['font.size']=14\n",
    "f, ax = plt.subplots(figsize=(14,4))\n",
    "#create a copy of the df for the viz purposes\n",
    "#wr_copy=weekly_rides.copy()\n",
    "#wr_copy.index=wr_copy.index.strftime(\"%B %Y\")\n",
    "weekly_rides.boxplot(figsize=(15,7),ax=ax,rot=90);\n",
    "#ax.set_ylim([-200,16000])"
   ]
  },
  {
   "cell_type": "markdown",
   "metadata": {},
   "source": [
    "not working, so moving on to Jordan's method"
   ]
  },
  {
   "cell_type": "code",
   "execution_count": 83,
   "metadata": {
    "collapsed": false
   },
   "outputs": [
    {
     "data": {
      "text/plain": [
       "<matplotlib.legend.Legend at 0x7f1a0ff87a90>"
      ]
     },
     "execution_count": 83,
     "metadata": {},
     "output_type": "execute_result"
    },
    {
     "data": {
      "image/png": "[encoded data removed]",
      "text/plain": [
       "<matplotlib.figure.Figure at 0x7f19f84ebed0>"
      ]
     },
     "metadata": {},
     "output_type": "display_data"
    }
   ],
   "source": [
    "# plotting all weekly trips data, with vertical line at location 126, when Hurricane Sandy hit\n",
    "\n",
    "fig, (ax) = pl.subplots(nrows=1, ncols=1, figsize=(16, 4))\n",
    "ax.plot(range(weekly_rides.shape[0]), weekly_rides, c='k', \n",
    "        alpha=0.6, label=\"Subway Trips\")\n",
    "ax.plot([126, 126], [0, 40000000], c='r',\n",
    "        alpha=0.6, label=\"Hurricane Sandy\")\n",
    "ax.set_xlabel('Week (Starting 05/21/2010)', fontsize=14, labelpad=15)\n",
    "ax.set_ylabel('Weekly Subway Trips', fontsize=14)\n",
    "ax.set_title('Weekly Subway Trips from 05/21/2010 to 02/21/2014', fontsize=16)\n",
    "ax.text(0, -19000000, \"Figure 1. The graph shows a steady ridership ranging from around 2.2 trips to 3.4 trips, \\\n",
    "except for the major dropoff that we found above is \\nthe min of week 126. This is when Hurrican Sandy hit\\\n",
    " New York City. The max in week 176 is not nearly as significant an event.\", fontsize=14)\n",
    "ax.legend(loc='lower right', ncol=1)"
   ]
  },
  {
   "cell_type": "markdown",
   "metadata": {},
   "source": [
    "# Task 2: Finding Changes"
   ]
  },
  {
   "cell_type": "markdown",
   "metadata": {},
   "source": [
    "Instructions: Some of the time series are stationary, some have a complex structure, some show a downward trend: Identify the ridership types that have steadily increased in popularity, and that have steadily decreased. by how much? (e.g what is the ratio of usage in the first 10 and last 10 weeks)"
   ]
  },
  {
   "cell_type": "code",
   "execution_count": 84,
   "metadata": {
    "collapsed": false
   },
   "outputs": [
    {
     "ename": "ValueError",
     "evalue": "'axis' entry is out of bounds",
     "output_type": "error",
     "traceback": [
      "\u001b[0;31m\u001b[0m",
      "\u001b[0;31mValueError\u001b[0mTraceback (most recent call last)",
      "\u001b[0;32m<ipython-input-84-29db2d5846bc>\u001b[0m in \u001b[0;36m<module>\u001b[0;34m()\u001b[0m\n\u001b[1;32m      2\u001b[0m \u001b[0;34m\u001b[0m\u001b[0m\n\u001b[1;32m      3\u001b[0m \u001b[0mstations\u001b[0m \u001b[0;34m=\u001b[0m \u001b[0mnp\u001b[0m\u001b[0;34m.\u001b[0m\u001b[0mnansum\u001b[0m\u001b[0;34m(\u001b[0m\u001b[0mdata\u001b[0m\u001b[0;34m,\u001b[0m \u001b[0maxis\u001b[0m\u001b[0;34m=\u001b[0m\u001b[0;36m0\u001b[0m\u001b[0;34m)\u001b[0m\u001b[0;34m\u001b[0m\u001b[0m\n\u001b[0;32m----> 4\u001b[0;31m \u001b[0mweek_stations\u001b[0m \u001b[0;34m=\u001b[0m \u001b[0mnp\u001b[0m\u001b[0;34m.\u001b[0m\u001b[0mnansum\u001b[0m\u001b[0;34m(\u001b[0m\u001b[0mstations\u001b[0m\u001b[0;34m,\u001b[0m \u001b[0maxis\u001b[0m\u001b[0;34m=\u001b[0m\u001b[0;36m2\u001b[0m\u001b[0;34m)\u001b[0m\u001b[0;34m\u001b[0m\u001b[0m\n\u001b[0m\u001b[1;32m      5\u001b[0m \u001b[0;34m\u001b[0m\u001b[0m\n\u001b[1;32m      6\u001b[0m \u001b[0mlen\u001b[0m\u001b[0;34m(\u001b[0m\u001b[0mweek_stations\u001b[0m\u001b[0;34m)\u001b[0m\u001b[0;34m\u001b[0m\u001b[0m\n",
      "\u001b[0;32m/opt/rh/anaconda/root/envs/PUI2016_Python2/lib/python2.7/site-packages/numpy/lib/nanfunctions.pyc\u001b[0m in \u001b[0;36mnansum\u001b[0;34m(a, axis, dtype, out, keepdims)\u001b[0m\n\u001b[1;32m    511\u001b[0m     \"\"\"\n\u001b[1;32m    512\u001b[0m     \u001b[0ma\u001b[0m\u001b[0;34m,\u001b[0m \u001b[0mmask\u001b[0m \u001b[0;34m=\u001b[0m \u001b[0m_replace_nan\u001b[0m\u001b[0;34m(\u001b[0m\u001b[0ma\u001b[0m\u001b[0;34m,\u001b[0m \u001b[0;36m0\u001b[0m\u001b[0;34m)\u001b[0m\u001b[0;34m\u001b[0m\u001b[0m\n\u001b[0;32m--> 513\u001b[0;31m     \u001b[0;32mreturn\u001b[0m \u001b[0mnp\u001b[0m\u001b[0;34m.\u001b[0m\u001b[0msum\u001b[0m\u001b[0;34m(\u001b[0m\u001b[0ma\u001b[0m\u001b[0;34m,\u001b[0m \u001b[0maxis\u001b[0m\u001b[0;34m=\u001b[0m\u001b[0maxis\u001b[0m\u001b[0;34m,\u001b[0m \u001b[0mdtype\u001b[0m\u001b[0;34m=\u001b[0m\u001b[0mdtype\u001b[0m\u001b[0;34m,\u001b[0m \u001b[0mout\u001b[0m\u001b[0;34m=\u001b[0m\u001b[0mout\u001b[0m\u001b[0;34m,\u001b[0m \u001b[0mkeepdims\u001b[0m\u001b[0;34m=\u001b[0m\u001b[0mkeepdims\u001b[0m\u001b[0;34m)\u001b[0m\u001b[0;34m\u001b[0m\u001b[0m\n\u001b[0m\u001b[1;32m    514\u001b[0m \u001b[0;34m\u001b[0m\u001b[0m\n\u001b[1;32m    515\u001b[0m \u001b[0;34m\u001b[0m\u001b[0m\n",
      "\u001b[0;32m/opt/rh/anaconda/root/envs/PUI2016_Python2/lib/python2.7/site-packages/numpy/core/fromnumeric.pyc\u001b[0m in \u001b[0;36msum\u001b[0;34m(a, axis, dtype, out, keepdims)\u001b[0m\n\u001b[1;32m   1838\u001b[0m     \u001b[0;32melse\u001b[0m\u001b[0;34m:\u001b[0m\u001b[0;34m\u001b[0m\u001b[0m\n\u001b[1;32m   1839\u001b[0m         return _methods._sum(a, axis=axis, dtype=dtype,\n\u001b[0;32m-> 1840\u001b[0;31m                              out=out, keepdims=keepdims)\n\u001b[0m\u001b[1;32m   1841\u001b[0m \u001b[0;34m\u001b[0m\u001b[0m\n\u001b[1;32m   1842\u001b[0m \u001b[0;34m\u001b[0m\u001b[0m\n",
      "\u001b[0;32m/opt/rh/anaconda/root/envs/PUI2016_Python2/lib/python2.7/site-packages/numpy/core/_methods.pyc\u001b[0m in \u001b[0;36m_sum\u001b[0;34m(a, axis, dtype, out, keepdims)\u001b[0m\n\u001b[1;32m     30\u001b[0m \u001b[0;34m\u001b[0m\u001b[0m\n\u001b[1;32m     31\u001b[0m \u001b[0;32mdef\u001b[0m \u001b[0m_sum\u001b[0m\u001b[0;34m(\u001b[0m\u001b[0ma\u001b[0m\u001b[0;34m,\u001b[0m \u001b[0maxis\u001b[0m\u001b[0;34m=\u001b[0m\u001b[0mNone\u001b[0m\u001b[0;34m,\u001b[0m \u001b[0mdtype\u001b[0m\u001b[0;34m=\u001b[0m\u001b[0mNone\u001b[0m\u001b[0;34m,\u001b[0m \u001b[0mout\u001b[0m\u001b[0;34m=\u001b[0m\u001b[0mNone\u001b[0m\u001b[0;34m,\u001b[0m \u001b[0mkeepdims\u001b[0m\u001b[0;34m=\u001b[0m\u001b[0mFalse\u001b[0m\u001b[0;34m)\u001b[0m\u001b[0;34m:\u001b[0m\u001b[0;34m\u001b[0m\u001b[0m\n\u001b[0;32m---> 32\u001b[0;31m     \u001b[0;32mreturn\u001b[0m \u001b[0mumr_sum\u001b[0m\u001b[0;34m(\u001b[0m\u001b[0ma\u001b[0m\u001b[0;34m,\u001b[0m \u001b[0maxis\u001b[0m\u001b[0;34m,\u001b[0m \u001b[0mdtype\u001b[0m\u001b[0;34m,\u001b[0m \u001b[0mout\u001b[0m\u001b[0;34m,\u001b[0m \u001b[0mkeepdims\u001b[0m\u001b[0;34m)\u001b[0m\u001b[0;34m\u001b[0m\u001b[0m\n\u001b[0m\u001b[1;32m     33\u001b[0m \u001b[0;34m\u001b[0m\u001b[0m\n\u001b[1;32m     34\u001b[0m \u001b[0;32mdef\u001b[0m \u001b[0m_prod\u001b[0m\u001b[0;34m(\u001b[0m\u001b[0ma\u001b[0m\u001b[0;34m,\u001b[0m \u001b[0maxis\u001b[0m\u001b[0;34m=\u001b[0m\u001b[0mNone\u001b[0m\u001b[0;34m,\u001b[0m \u001b[0mdtype\u001b[0m\u001b[0;34m=\u001b[0m\u001b[0mNone\u001b[0m\u001b[0;34m,\u001b[0m \u001b[0mout\u001b[0m\u001b[0;34m=\u001b[0m\u001b[0mNone\u001b[0m\u001b[0;34m,\u001b[0m \u001b[0mkeepdims\u001b[0m\u001b[0;34m=\u001b[0m\u001b[0mFalse\u001b[0m\u001b[0;34m)\u001b[0m\u001b[0;34m:\u001b[0m\u001b[0;34m\u001b[0m\u001b[0m\n",
      "\u001b[0;31mValueError\u001b[0m: 'axis' entry is out of bounds"
     ]
    }
   ],
   "source": [
    "# need to isolate how many summed trips there are per card type\n",
    "\n",
    "stations = np.nansum(data, axis=0)\n",
    "week_stations = np.nansum(stations, axis=2)\n",
    "\n",
    "len(week_stations)"
   ]
  },
  {
   "cell_type": "markdown",
   "metadata": {},
   "source": [
    "Hm that didn't work. Thought stations was axis 0, card types was axis 1, and weeks was axis 2."
   ]
  },
  {
   "cell_type": "code",
   "execution_count": 89,
   "metadata": {
    "collapsed": false
   },
   "outputs": [
    {
     "data": {
      "text/plain": [
       "(23, 194)"
      ]
     },
     "execution_count": 89,
     "metadata": {},
     "output_type": "execute_result"
    }
   ],
   "source": [
    "stations.shape"
   ]
  },
  {
   "cell_type": "markdown",
   "metadata": {},
   "source": [
    "Instead doing what Jordan did."
   ]
  },
  {
   "cell_type": "code",
   "execution_count": 94,
   "metadata": {
    "collapsed": false
   },
   "outputs": [
    {
     "data": {
      "text/html": [
       "<div>\n",
       "<table border=\"1\" class=\"dataframe\">\n",
       "  <thead>\n",
       "    <tr style=\"text-align: right;\">\n",
       "      <th></th>\n",
       "      <th>0</th>\n",
       "      <th>1</th>\n",
       "      <th>2</th>\n",
       "      <th>3</th>\n",
       "      <th>4</th>\n",
       "      <th>5</th>\n",
       "      <th>6</th>\n",
       "      <th>7</th>\n",
       "      <th>8</th>\n",
       "      <th>9</th>\n",
       "      <th>...</th>\n",
       "      <th>13</th>\n",
       "      <th>14</th>\n",
       "      <th>15</th>\n",
       "      <th>16</th>\n",
       "      <th>17</th>\n",
       "      <th>18</th>\n",
       "      <th>19</th>\n",
       "      <th>20</th>\n",
       "      <th>21</th>\n",
       "      <th>22</th>\n",
       "    </tr>\n",
       "  </thead>\n",
       "  <tbody>\n",
       "    <tr>\n",
       "      <th>0</th>\n",
       "      <td>11494615.0</td>\n",
       "      <td>530524.0</td>\n",
       "      <td>47801.0</td>\n",
       "      <td>186551.0</td>\n",
       "      <td>46808.0</td>\n",
       "      <td>3697443.0</td>\n",
       "      <td>8551937.0</td>\n",
       "      <td>10063.0</td>\n",
       "      <td>333197.0</td>\n",
       "      <td>512032.0</td>\n",
       "      <td>...</td>\n",
       "      <td>123134.0</td>\n",
       "      <td>790110.0</td>\n",
       "      <td>59809.0</td>\n",
       "      <td>28221.0</td>\n",
       "      <td>0.0</td>\n",
       "      <td>124693.0</td>\n",
       "      <td>21060.0</td>\n",
       "      <td>6128.0</td>\n",
       "      <td>358.0</td>\n",
       "      <td>0.0</td>\n",
       "    </tr>\n",
       "    <tr>\n",
       "      <th>1</th>\n",
       "      <td>12526859.0</td>\n",
       "      <td>583533.0</td>\n",
       "      <td>51486.0</td>\n",
       "      <td>199229.0</td>\n",
       "      <td>64353.0</td>\n",
       "      <td>3981808.0</td>\n",
       "      <td>9486394.0</td>\n",
       "      <td>11847.0</td>\n",
       "      <td>282755.0</td>\n",
       "      <td>578023.0</td>\n",
       "      <td>...</td>\n",
       "      <td>151948.0</td>\n",
       "      <td>908068.0</td>\n",
       "      <td>69209.0</td>\n",
       "      <td>32333.0</td>\n",
       "      <td>0.0</td>\n",
       "      <td>121713.0</td>\n",
       "      <td>21670.0</td>\n",
       "      <td>6120.0</td>\n",
       "      <td>474.0</td>\n",
       "      <td>0.0</td>\n",
       "    </tr>\n",
       "    <tr>\n",
       "      <th>2</th>\n",
       "      <td>12766627.0</td>\n",
       "      <td>586194.0</td>\n",
       "      <td>51636.0</td>\n",
       "      <td>199668.0</td>\n",
       "      <td>56994.0</td>\n",
       "      <td>4033030.0</td>\n",
       "      <td>9476538.0</td>\n",
       "      <td>12277.0</td>\n",
       "      <td>302028.0</td>\n",
       "      <td>615537.0</td>\n",
       "      <td>...</td>\n",
       "      <td>151538.0</td>\n",
       "      <td>914124.0</td>\n",
       "      <td>69574.0</td>\n",
       "      <td>32618.0</td>\n",
       "      <td>0.0</td>\n",
       "      <td>122181.0</td>\n",
       "      <td>21433.0</td>\n",
       "      <td>6490.0</td>\n",
       "      <td>465.0</td>\n",
       "      <td>0.0</td>\n",
       "    </tr>\n",
       "    <tr>\n",
       "      <th>3</th>\n",
       "      <td>12653675.0</td>\n",
       "      <td>562602.0</td>\n",
       "      <td>52063.0</td>\n",
       "      <td>196389.0</td>\n",
       "      <td>37429.0</td>\n",
       "      <td>4032753.0</td>\n",
       "      <td>9450081.0</td>\n",
       "      <td>11221.0</td>\n",
       "      <td>305513.0</td>\n",
       "      <td>606270.0</td>\n",
       "      <td>...</td>\n",
       "      <td>147094.0</td>\n",
       "      <td>902549.0</td>\n",
       "      <td>68099.0</td>\n",
       "      <td>32404.0</td>\n",
       "      <td>0.0</td>\n",
       "      <td>122051.0</td>\n",
       "      <td>21630.0</td>\n",
       "      <td>6590.0</td>\n",
       "      <td>484.0</td>\n",
       "      <td>0.0</td>\n",
       "    </tr>\n",
       "    <tr>\n",
       "      <th>4</th>\n",
       "      <td>12809694.0</td>\n",
       "      <td>548858.0</td>\n",
       "      <td>51153.0</td>\n",
       "      <td>194883.0</td>\n",
       "      <td>35210.0</td>\n",
       "      <td>3925446.0</td>\n",
       "      <td>9294002.0</td>\n",
       "      <td>10515.0</td>\n",
       "      <td>335780.0</td>\n",
       "      <td>563446.0</td>\n",
       "      <td>...</td>\n",
       "      <td>137888.0</td>\n",
       "      <td>855573.0</td>\n",
       "      <td>66377.0</td>\n",
       "      <td>31933.0</td>\n",
       "      <td>176.0</td>\n",
       "      <td>119776.0</td>\n",
       "      <td>20297.0</td>\n",
       "      <td>6313.0</td>\n",
       "      <td>452.0</td>\n",
       "      <td>0.0</td>\n",
       "    </tr>\n",
       "  </tbody>\n",
       "</table>\n",
       "<p>5 rows × 23 columns</p>\n",
       "</div>"
      ],
      "text/plain": [
       "           0         1        2         3        4          5          6   \\\n",
       "0  11494615.0  530524.0  47801.0  186551.0  46808.0  3697443.0  8551937.0   \n",
       "1  12526859.0  583533.0  51486.0  199229.0  64353.0  3981808.0  9486394.0   \n",
       "2  12766627.0  586194.0  51636.0  199668.0  56994.0  4033030.0  9476538.0   \n",
       "3  12653675.0  562602.0  52063.0  196389.0  37429.0  4032753.0  9450081.0   \n",
       "4  12809694.0  548858.0  51153.0  194883.0  35210.0  3925446.0  9294002.0   \n",
       "\n",
       "        7         8         9  ...         13        14       15       16  \\\n",
       "0  10063.0  333197.0  512032.0 ...   123134.0  790110.0  59809.0  28221.0   \n",
       "1  11847.0  282755.0  578023.0 ...   151948.0  908068.0  69209.0  32333.0   \n",
       "2  12277.0  302028.0  615537.0 ...   151538.0  914124.0  69574.0  32618.0   \n",
       "3  11221.0  305513.0  606270.0 ...   147094.0  902549.0  68099.0  32404.0   \n",
       "4  10515.0  335780.0  563446.0 ...   137888.0  855573.0  66377.0  31933.0   \n",
       "\n",
       "      17        18       19      20     21   22  \n",
       "0    0.0  124693.0  21060.0  6128.0  358.0  0.0  \n",
       "1    0.0  121713.0  21670.0  6120.0  474.0  0.0  \n",
       "2    0.0  122181.0  21433.0  6490.0  465.0  0.0  \n",
       "3    0.0  122051.0  21630.0  6590.0  484.0  0.0  \n",
       "4  176.0  119776.0  20297.0  6313.0  452.0  0.0  \n",
       "\n",
       "[5 rows x 23 columns]"
      ]
     },
     "execution_count": 94,
     "metadata": {},
     "output_type": "execute_result"
    }
   ],
   "source": [
    "#transposing rows and columns\n",
    "cardtype = pd.DataFrame(stations)\n",
    "cardtype_T = cardtype.T\n",
    "cardtype_T.head()"
   ]
  },
  {
   "cell_type": "code",
   "execution_count": null,
   "metadata": {
    "collapsed": true
   },
   "outputs": [],
   "source": []
  }
 ],
 "metadata": {
  "kernelspec": {
   "display_name": "PUI2016_Python2",
   "language": "python",
   "name": "pui2016_python2"
  },
  "language_info": {
   "codemirror_mode": {
    "name": "ipython",
    "version": 2
   },
   "file_extension": ".py",
   "mimetype": "text/x-python",
   "name": "python",
   "nbconvert_exporter": "python",
   "pygments_lexer": "ipython2",
   "version": "2.7.12"
  }
 },
 "nbformat": 4,
 "nbformat_minor": 0
}
