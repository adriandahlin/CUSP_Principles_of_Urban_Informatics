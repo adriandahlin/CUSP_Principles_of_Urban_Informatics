{
 "cells": [
  {
   "cell_type": "code",
   "execution_count": 182,
   "metadata": {
    "collapsed": false
   },
   "outputs": [],
   "source": [
    "import os\n",
    "import ast\n",
    "import urllib2\n",
    "import urllib\n",
    "from cStringIO import StringIO\n",
    "import json\n",
    "import geopandas as gp\n",
    "import pandas as pd\n",
    "import numpy as np\n",
    "import pylab as pl\n",
    "from scipy.spatial.distance import pdist, squareform\n",
    "\n",
    "%matplotlib inline\n",
    "\n",
    "SQL_SOURCE = 'https://fb55.carto.com/api/v2/sql'\n",
    "\n",
    "def queryCartoDB(query, format='CSV', source=SQL_SOURCE):\n",
    "    \"\"\" queries a url with an sql compatible search\n",
    "    Arguments:\n",
    "    query : the sql query string\n",
    "    format : the expected format\n",
    "    source : the url of the API\n",
    "    \"\"\"\n",
    "    data = urllib.urlencode({'format': format, 'q': query})\n",
    "    try:\n",
    "        response = urllib2.urlopen(source, data)\n",
    "    except urllib2.HTTPError, e:\n",
    "        raise ValueError('\\n'.join(ast.literal_eval(e.readline())['error']))\n",
    "    except Exception:\n",
    "        raise\n",
    "    return StringIO(response.read())"
   ]
  },
  {
   "cell_type": "code",
   "execution_count": 183,
   "metadata": {
    "collapsed": false
   },
   "outputs": [
    {
     "name": "stdout",
     "output_type": "stream",
     "text": [
      "PUIDATA env variable is set\n"
     ]
    }
   ],
   "source": [
    "if os.getenv(\"PUIDATA\") is None:\n",
    "    print (\"must set PUIDATA env variable\")\n",
    "else:\n",
    "    print('PUIDATA env variable is set')"
   ]
  },
  {
   "cell_type": "markdown",
   "metadata": {},
   "source": [
    "## Querying the asthma dismissals and grouping by zip code"
   ]
  },
  {
   "cell_type": "code",
   "execution_count": 184,
   "metadata": {
    "collapsed": false
   },
   "outputs": [
    {
     "data": {
      "text/html": [
       "<div>\n",
       "<table border=\"1\" class=\"dataframe\">\n",
       "  <thead>\n",
       "    <tr style=\"text-align: right;\">\n",
       "      <th></th>\n",
       "      <th>count</th>\n",
       "      <th>zipcodes</th>\n",
       "    </tr>\n",
       "  </thead>\n",
       "  <tbody>\n",
       "    <tr>\n",
       "      <th>0</th>\n",
       "      <td>1699</td>\n",
       "      <td>10461</td>\n",
       "    </tr>\n",
       "    <tr>\n",
       "      <th>1</th>\n",
       "      <td>405</td>\n",
       "      <td>11373</td>\n",
       "    </tr>\n",
       "    <tr>\n",
       "      <th>2</th>\n",
       "      <td>1698</td>\n",
       "      <td>10451</td>\n",
       "    </tr>\n",
       "    <tr>\n",
       "      <th>3</th>\n",
       "      <td>220</td>\n",
       "      <td>11691</td>\n",
       "    </tr>\n",
       "    <tr>\n",
       "      <th>4</th>\n",
       "      <td>246</td>\n",
       "      <td>11375</td>\n",
       "    </tr>\n",
       "  </tbody>\n",
       "</table>\n",
       "</div>"
      ],
      "text/plain": [
       "   count  zipcodes\n",
       "0   1699     10461\n",
       "1    405     11373\n",
       "2   1698     10451\n",
       "3    220     11691\n",
       "4    246     11375"
      ]
     },
     "execution_count": 184,
     "metadata": {},
     "output_type": "execute_result"
    }
   ],
   "source": [
    "facilityQuery = '''SELECT\n",
    "COUNT(*) as count, zipcodes\n",
    "FROM nycasthmasdismissals\n",
    "GROUP BY zipcodes\n",
    "    '''\n",
    "facilityStream = queryCartoDB(facilityQuery, format='JSON')\n",
    "facilityData   = json.loads(facilityStream.read())\n",
    "facilityData\n",
    "facilities     = pd.DataFrame.from_dict(facilityData['rows'])\n",
    "facilities.head()"
   ]
  },
  {
   "cell_type": "code",
   "execution_count": 185,
   "metadata": {
    "collapsed": false
   },
   "outputs": [
    {
     "data": {
      "text/html": [
       "<div>\n",
       "<table border=\"1\" class=\"dataframe\">\n",
       "  <thead>\n",
       "    <tr style=\"text-align: right;\">\n",
       "      <th></th>\n",
       "      <th>count</th>\n",
       "      <th>ZIPCODE</th>\n",
       "    </tr>\n",
       "  </thead>\n",
       "  <tbody>\n",
       "    <tr>\n",
       "      <th>0</th>\n",
       "      <td>1699</td>\n",
       "      <td>10461</td>\n",
       "    </tr>\n",
       "    <tr>\n",
       "      <th>1</th>\n",
       "      <td>405</td>\n",
       "      <td>11373</td>\n",
       "    </tr>\n",
       "    <tr>\n",
       "      <th>2</th>\n",
       "      <td>1698</td>\n",
       "      <td>10451</td>\n",
       "    </tr>\n",
       "    <tr>\n",
       "      <th>3</th>\n",
       "      <td>220</td>\n",
       "      <td>11691</td>\n",
       "    </tr>\n",
       "    <tr>\n",
       "      <th>4</th>\n",
       "      <td>246</td>\n",
       "      <td>11375</td>\n",
       "    </tr>\n",
       "  </tbody>\n",
       "</table>\n",
       "</div>"
      ],
      "text/plain": [
       "   count  ZIPCODE\n",
       "0   1699    10461\n",
       "1    405    11373\n",
       "2   1698    10451\n",
       "3    220    11691\n",
       "4    246    11375"
      ]
     },
     "execution_count": 185,
     "metadata": {},
     "output_type": "execute_result"
    }
   ],
   "source": [
    "facilities.rename(columns={'zipcodes': 'ZIPCODE'}, inplace=True)\n",
    "facilities.head()"
   ]
  },
  {
   "cell_type": "markdown",
   "metadata": {},
   "source": [
    "## Reading zip code data that was uploaded manually to PUIdata\n",
    "\n",
    "#### from here: https://data.cityofnewyork.us/Business/Zip-Code-Boundaries/i8iw-xf4u?category=Business&view_name=Zip-Code-Boundaries"
   ]
  },
  {
   "cell_type": "code",
   "execution_count": 186,
   "metadata": {
    "collapsed": false
   },
   "outputs": [
    {
     "data": {
      "text/html": [
       "<div>\n",
       "<table border=\"1\" class=\"dataframe\">\n",
       "  <thead>\n",
       "    <tr style=\"text-align: right;\">\n",
       "      <th></th>\n",
       "      <th>AREA</th>\n",
       "      <th>BLDGZIP</th>\n",
       "      <th>COUNTY</th>\n",
       "      <th>CTY_FIPS</th>\n",
       "      <th>POPULATION</th>\n",
       "      <th>PO_NAME</th>\n",
       "      <th>SHAPE_AREA</th>\n",
       "      <th>SHAPE_LEN</th>\n",
       "      <th>STATE</th>\n",
       "      <th>ST_FIPS</th>\n",
       "      <th>URL</th>\n",
       "      <th>ZIPCODE</th>\n",
       "      <th>geometry</th>\n",
       "    </tr>\n",
       "  </thead>\n",
       "  <tbody>\n",
       "    <tr>\n",
       "      <th>0</th>\n",
       "      <td>2.269930e+07</td>\n",
       "      <td>0</td>\n",
       "      <td>Queens</td>\n",
       "      <td>081</td>\n",
       "      <td>18681.0</td>\n",
       "      <td>Jamaica</td>\n",
       "      <td>0.0</td>\n",
       "      <td>0.0</td>\n",
       "      <td>NY</td>\n",
       "      <td>36</td>\n",
       "      <td>http://www.usps.com/</td>\n",
       "      <td>11436</td>\n",
       "      <td>POLYGON ((1038098.251871482 188138.3800067157,...</td>\n",
       "    </tr>\n",
       "    <tr>\n",
       "      <th>1</th>\n",
       "      <td>2.963100e+07</td>\n",
       "      <td>0</td>\n",
       "      <td>Kings</td>\n",
       "      <td>047</td>\n",
       "      <td>62426.0</td>\n",
       "      <td>Brooklyn</td>\n",
       "      <td>0.0</td>\n",
       "      <td>0.0</td>\n",
       "      <td>NY</td>\n",
       "      <td>36</td>\n",
       "      <td>http://www.usps.com/</td>\n",
       "      <td>11213</td>\n",
       "      <td>POLYGON ((1001613.712964058 186926.4395172149,...</td>\n",
       "    </tr>\n",
       "    <tr>\n",
       "      <th>2</th>\n",
       "      <td>4.197210e+07</td>\n",
       "      <td>0</td>\n",
       "      <td>Kings</td>\n",
       "      <td>047</td>\n",
       "      <td>83866.0</td>\n",
       "      <td>Brooklyn</td>\n",
       "      <td>0.0</td>\n",
       "      <td>0.0</td>\n",
       "      <td>NY</td>\n",
       "      <td>36</td>\n",
       "      <td>http://www.usps.com/</td>\n",
       "      <td>11212</td>\n",
       "      <td>POLYGON ((1011174.275535807 183696.33770971, 1...</td>\n",
       "    </tr>\n",
       "    <tr>\n",
       "      <th>3</th>\n",
       "      <td>2.369863e+07</td>\n",
       "      <td>0</td>\n",
       "      <td>Kings</td>\n",
       "      <td>047</td>\n",
       "      <td>56527.0</td>\n",
       "      <td>Brooklyn</td>\n",
       "      <td>0.0</td>\n",
       "      <td>0.0</td>\n",
       "      <td>NY</td>\n",
       "      <td>36</td>\n",
       "      <td>http://www.usps.com/</td>\n",
       "      <td>11225</td>\n",
       "      <td>POLYGON ((995908.3654508889 183617.6128015518,...</td>\n",
       "    </tr>\n",
       "    <tr>\n",
       "      <th>4</th>\n",
       "      <td>3.686880e+07</td>\n",
       "      <td>0</td>\n",
       "      <td>Kings</td>\n",
       "      <td>047</td>\n",
       "      <td>72280.0</td>\n",
       "      <td>Brooklyn</td>\n",
       "      <td>0.0</td>\n",
       "      <td>0.0</td>\n",
       "      <td>NY</td>\n",
       "      <td>36</td>\n",
       "      <td>http://www.usps.com/</td>\n",
       "      <td>11218</td>\n",
       "      <td>POLYGON ((991997.1134308875 176307.4958601296,...</td>\n",
       "    </tr>\n",
       "  </tbody>\n",
       "</table>\n",
       "</div>"
      ],
      "text/plain": [
       "           AREA BLDGZIP  COUNTY CTY_FIPS  POPULATION   PO_NAME  SHAPE_AREA  \\\n",
       "0  2.269930e+07       0  Queens      081     18681.0   Jamaica         0.0   \n",
       "1  2.963100e+07       0   Kings      047     62426.0  Brooklyn         0.0   \n",
       "2  4.197210e+07       0   Kings      047     83866.0  Brooklyn         0.0   \n",
       "3  2.369863e+07       0   Kings      047     56527.0  Brooklyn         0.0   \n",
       "4  3.686880e+07       0   Kings      047     72280.0  Brooklyn         0.0   \n",
       "\n",
       "   SHAPE_LEN STATE ST_FIPS                   URL ZIPCODE  \\\n",
       "0        0.0    NY      36  http://www.usps.com/   11436   \n",
       "1        0.0    NY      36  http://www.usps.com/   11213   \n",
       "2        0.0    NY      36  http://www.usps.com/   11212   \n",
       "3        0.0    NY      36  http://www.usps.com/   11225   \n",
       "4        0.0    NY      36  http://www.usps.com/   11218   \n",
       "\n",
       "                                            geometry  \n",
       "0  POLYGON ((1038098.251871482 188138.3800067157,...  \n",
       "1  POLYGON ((1001613.712964058 186926.4395172149,...  \n",
       "2  POLYGON ((1011174.275535807 183696.33770971, 1...  \n",
       "3  POLYGON ((995908.3654508889 183617.6128015518,...  \n",
       "4  POLYGON ((991997.1134308875 176307.4958601296,...  "
      ]
     },
     "execution_count": 186,
     "metadata": {},
     "output_type": "execute_result"
    }
   ],
   "source": [
    "zipcodes = gp.read_file(os.getenv('PUIDATA') + \"/\" + \"ZIP_CODE_040114.shp\")\n",
    "zipcodes.head()"
   ]
  },
  {
   "cell_type": "markdown",
   "metadata": {},
   "source": [
    "## Eliminating the columns we don't need in zip code data"
   ]
  },
  {
   "cell_type": "code",
   "execution_count": 187,
   "metadata": {
    "collapsed": false
   },
   "outputs": [
    {
     "data": {
      "text/plain": [
       "Index([      u'AREA',    u'BLDGZIP',     u'COUNTY',   u'CTY_FIPS',\n",
       "       u'POPULATION',    u'PO_NAME', u'SHAPE_AREA',  u'SHAPE_LEN',\n",
       "            u'STATE',    u'ST_FIPS',        u'URL',    u'ZIPCODE',\n",
       "         u'geometry'],\n",
       "      dtype='object')"
      ]
     },
     "execution_count": 187,
     "metadata": {},
     "output_type": "execute_result"
    }
   ],
   "source": [
    "zipcodes.columns"
   ]
  },
  {
   "cell_type": "code",
   "execution_count": 188,
   "metadata": {
    "collapsed": true
   },
   "outputs": [],
   "source": [
    "zipcodes.drop([u'AREA',    u'BLDGZIP',     u'COUNTY',   u'CTY_FIPS',\n",
    "       u'POPULATION',    u'PO_NAME', u'SHAPE_AREA',  u'SHAPE_LEN',\n",
    "            u'STATE',    u'ST_FIPS',        u'URL'], axis=1, inplace=True)"
   ]
  },
  {
   "cell_type": "code",
   "execution_count": 189,
   "metadata": {
    "collapsed": false
   },
   "outputs": [
    {
     "data": {
      "text/html": [
       "<div>\n",
       "<table border=\"1\" class=\"dataframe\">\n",
       "  <thead>\n",
       "    <tr style=\"text-align: right;\">\n",
       "      <th></th>\n",
       "      <th>ZIPCODE</th>\n",
       "      <th>geometry</th>\n",
       "    </tr>\n",
       "  </thead>\n",
       "  <tbody>\n",
       "    <tr>\n",
       "      <th>0</th>\n",
       "      <td>11436</td>\n",
       "      <td>POLYGON ((1038098.251871482 188138.3800067157,...</td>\n",
       "    </tr>\n",
       "    <tr>\n",
       "      <th>1</th>\n",
       "      <td>11213</td>\n",
       "      <td>POLYGON ((1001613.712964058 186926.4395172149,...</td>\n",
       "    </tr>\n",
       "    <tr>\n",
       "      <th>2</th>\n",
       "      <td>11212</td>\n",
       "      <td>POLYGON ((1011174.275535807 183696.33770971, 1...</td>\n",
       "    </tr>\n",
       "    <tr>\n",
       "      <th>3</th>\n",
       "      <td>11225</td>\n",
       "      <td>POLYGON ((995908.3654508889 183617.6128015518,...</td>\n",
       "    </tr>\n",
       "    <tr>\n",
       "      <th>4</th>\n",
       "      <td>11218</td>\n",
       "      <td>POLYGON ((991997.1134308875 176307.4958601296,...</td>\n",
       "    </tr>\n",
       "  </tbody>\n",
       "</table>\n",
       "</div>"
      ],
      "text/plain": [
       "  ZIPCODE                                           geometry\n",
       "0   11436  POLYGON ((1038098.251871482 188138.3800067157,...\n",
       "1   11213  POLYGON ((1001613.712964058 186926.4395172149,...\n",
       "2   11212  POLYGON ((1011174.275535807 183696.33770971, 1...\n",
       "3   11225  POLYGON ((995908.3654508889 183617.6128015518,...\n",
       "4   11218  POLYGON ((991997.1134308875 176307.4958601296,..."
      ]
     },
     "execution_count": 189,
     "metadata": {},
     "output_type": "execute_result"
    }
   ],
   "source": [
    "zipcodes.head()"
   ]
  },
  {
   "cell_type": "markdown",
   "metadata": {},
   "source": [
    "## Merge\n",
    "#### didn't work at first so Geoff Perrin suggested I change the column data type to string"
   ]
  },
  {
   "cell_type": "code",
   "execution_count": 190,
   "metadata": {
    "collapsed": false
   },
   "outputs": [
    {
     "data": {
      "text/plain": [
       "pandas.core.series.Series"
      ]
     },
     "execution_count": 190,
     "metadata": {},
     "output_type": "execute_result"
    }
   ],
   "source": [
    "type(zipcodes['ZIPCODE'])"
   ]
  },
  {
   "cell_type": "code",
   "execution_count": 191,
   "metadata": {
    "collapsed": false
   },
   "outputs": [
    {
     "data": {
      "text/plain": [
       "pandas.core.series.Series"
      ]
     },
     "execution_count": 191,
     "metadata": {},
     "output_type": "execute_result"
    }
   ],
   "source": [
    "type(facilities['ZIPCODE'])"
   ]
  },
  {
   "cell_type": "code",
   "execution_count": 192,
   "metadata": {
    "collapsed": false
   },
   "outputs": [],
   "source": [
    "zipcodes.ZIPCODE = zipcodes.ZIPCODE.astype(str)\n",
    "facilities.ZIPCODE = facilities.ZIPCODE.astype(str)"
   ]
  },
  {
   "cell_type": "code",
   "execution_count": 193,
   "metadata": {
    "collapsed": false
   },
   "outputs": [
    {
     "data": {
      "text/html": [
       "<div>\n",
       "<table border=\"1\" class=\"dataframe\">\n",
       "  <thead>\n",
       "    <tr style=\"text-align: right;\">\n",
       "      <th></th>\n",
       "      <th>count</th>\n",
       "      <th>ZIPCODE</th>\n",
       "      <th>geometry</th>\n",
       "    </tr>\n",
       "  </thead>\n",
       "  <tbody>\n",
       "    <tr>\n",
       "      <th>0</th>\n",
       "      <td>1699</td>\n",
       "      <td>10461</td>\n",
       "      <td>POLYGON ((1029230.779448971 251468.9475710541,...</td>\n",
       "    </tr>\n",
       "    <tr>\n",
       "      <th>1</th>\n",
       "      <td>405</td>\n",
       "      <td>11373</td>\n",
       "      <td>POLYGON ((1015508.538520813 204353.9663418829,...</td>\n",
       "    </tr>\n",
       "    <tr>\n",
       "      <th>2</th>\n",
       "      <td>1698</td>\n",
       "      <td>10451</td>\n",
       "      <td>POLYGON ((1002809.989770979 240846.5980808884,...</td>\n",
       "    </tr>\n",
       "    <tr>\n",
       "      <th>3</th>\n",
       "      <td>220</td>\n",
       "      <td>11691</td>\n",
       "      <td>POLYGON ((1054519.887991399 162245.7592198849,...</td>\n",
       "    </tr>\n",
       "    <tr>\n",
       "      <th>4</th>\n",
       "      <td>246</td>\n",
       "      <td>11375</td>\n",
       "      <td>POLYGON ((1024087.848133817 207717.1410459727,...</td>\n",
       "    </tr>\n",
       "  </tbody>\n",
       "</table>\n",
       "</div>"
      ],
      "text/plain": [
       "   count ZIPCODE                                           geometry\n",
       "0   1699   10461  POLYGON ((1029230.779448971 251468.9475710541,...\n",
       "1    405   11373  POLYGON ((1015508.538520813 204353.9663418829,...\n",
       "2   1698   10451  POLYGON ((1002809.989770979 240846.5980808884,...\n",
       "3    220   11691  POLYGON ((1054519.887991399 162245.7592198849,...\n",
       "4    246   11375  POLYGON ((1024087.848133817 207717.1410459727,..."
      ]
     },
     "execution_count": 193,
     "metadata": {},
     "output_type": "execute_result"
    }
   ],
   "source": [
    "merge = facilities.merge(zipcodes, how='inner', on='ZIPCODE')\n",
    "merge.head()"
   ]
  },
  {
   "cell_type": "code",
   "execution_count": 194,
   "metadata": {
    "collapsed": false
   },
   "outputs": [
    {
     "data": {
      "text/html": [
       "<div>\n",
       "<table border=\"1\" class=\"dataframe\">\n",
       "  <thead>\n",
       "    <tr style=\"text-align: right;\">\n",
       "      <th></th>\n",
       "      <th>count</th>\n",
       "      <th>zipcode</th>\n",
       "      <th>geometry</th>\n",
       "    </tr>\n",
       "  </thead>\n",
       "  <tbody>\n",
       "    <tr>\n",
       "      <th>0</th>\n",
       "      <td>1699</td>\n",
       "      <td>10461</td>\n",
       "      <td>POLYGON ((1029230.779448971 251468.9475710541,...</td>\n",
       "    </tr>\n",
       "    <tr>\n",
       "      <th>1</th>\n",
       "      <td>405</td>\n",
       "      <td>11373</td>\n",
       "      <td>POLYGON ((1015508.538520813 204353.9663418829,...</td>\n",
       "    </tr>\n",
       "    <tr>\n",
       "      <th>2</th>\n",
       "      <td>1698</td>\n",
       "      <td>10451</td>\n",
       "      <td>POLYGON ((1002809.989770979 240846.5980808884,...</td>\n",
       "    </tr>\n",
       "    <tr>\n",
       "      <th>3</th>\n",
       "      <td>220</td>\n",
       "      <td>11691</td>\n",
       "      <td>POLYGON ((1054519.887991399 162245.7592198849,...</td>\n",
       "    </tr>\n",
       "    <tr>\n",
       "      <th>4</th>\n",
       "      <td>246</td>\n",
       "      <td>11375</td>\n",
       "      <td>POLYGON ((1024087.848133817 207717.1410459727,...</td>\n",
       "    </tr>\n",
       "  </tbody>\n",
       "</table>\n",
       "</div>"
      ],
      "text/plain": [
       "   count zipcode                                           geometry\n",
       "0   1699   10461  POLYGON ((1029230.779448971 251468.9475710541,...\n",
       "1    405   11373  POLYGON ((1015508.538520813 204353.9663418829,...\n",
       "2   1698   10451  POLYGON ((1002809.989770979 240846.5980808884,...\n",
       "3    220   11691  POLYGON ((1054519.887991399 162245.7592198849,...\n",
       "4    246   11375  POLYGON ((1024087.848133817 207717.1410459727,..."
      ]
     },
     "execution_count": 194,
     "metadata": {},
     "output_type": "execute_result"
    }
   ],
   "source": [
    "merge.rename(columns={'ZIPCODE': 'zipcode'}, inplace=True)\n",
    "merge.head()"
   ]
  },
  {
   "cell_type": "markdown",
   "metadata": {},
   "source": [
    "## Creating centroid points from polygons\n",
    "#### help from Nicola Macchitella"
   ]
  },
  {
   "cell_type": "code",
   "execution_count": 195,
   "metadata": {
    "collapsed": true
   },
   "outputs": [],
   "source": [
    "mergegdf = gp.GeoDataFrame(merge)"
   ]
  },
  {
   "cell_type": "code",
   "execution_count": 196,
   "metadata": {
    "collapsed": false
   },
   "outputs": [],
   "source": [
    "mergegdf['geometry']=mergegdf.geometry.centroid\n",
    "mergegdf.rename(columns={'geometry': 'center'}, inplace=True)"
   ]
  },
  {
   "cell_type": "code",
   "execution_count": 197,
   "metadata": {
    "collapsed": false
   },
   "outputs": [
    {
     "data": {
      "text/html": [
       "<div>\n",
       "<table border=\"1\" class=\"dataframe\">\n",
       "  <thead>\n",
       "    <tr style=\"text-align: right;\">\n",
       "      <th></th>\n",
       "      <th>count</th>\n",
       "      <th>zipcode</th>\n",
       "      <th>center</th>\n",
       "    </tr>\n",
       "  </thead>\n",
       "  <tbody>\n",
       "    <tr>\n",
       "      <th>0</th>\n",
       "      <td>1699</td>\n",
       "      <td>10461</td>\n",
       "      <td>POINT (1028292.72437689 247902.4282787614)</td>\n",
       "    </tr>\n",
       "    <tr>\n",
       "      <th>1</th>\n",
       "      <td>405</td>\n",
       "      <td>11373</td>\n",
       "      <td>POINT (1017941.215480481 208485.1046661779)</td>\n",
       "    </tr>\n",
       "    <tr>\n",
       "      <th>2</th>\n",
       "      <td>1698</td>\n",
       "      <td>10451</td>\n",
       "      <td>POINT (1005358.961284301 238316.0675161843)</td>\n",
       "    </tr>\n",
       "    <tr>\n",
       "      <th>3</th>\n",
       "      <td>220</td>\n",
       "      <td>11691</td>\n",
       "      <td>POINT (1050360.772370908 158235.4624321515)</td>\n",
       "    </tr>\n",
       "    <tr>\n",
       "      <th>4</th>\n",
       "      <td>246</td>\n",
       "      <td>11375</td>\n",
       "      <td>POINT (1026858.206454871 201880.2234817908)</td>\n",
       "    </tr>\n",
       "  </tbody>\n",
       "</table>\n",
       "</div>"
      ],
      "text/plain": [
       "   count zipcode                                       center\n",
       "0   1699   10461   POINT (1028292.72437689 247902.4282787614)\n",
       "1    405   11373  POINT (1017941.215480481 208485.1046661779)\n",
       "2   1698   10451  POINT (1005358.961284301 238316.0675161843)\n",
       "3    220   11691  POINT (1050360.772370908 158235.4624321515)\n",
       "4    246   11375  POINT (1026858.206454871 201880.2234817908)"
      ]
     },
     "execution_count": 197,
     "metadata": {},
     "output_type": "execute_result"
    }
   ],
   "source": [
    "mergegdf.head()"
   ]
  },
  {
   "cell_type": "markdown",
   "metadata": {},
   "source": [
    "don't need the next three cells, was an experiment"
   ]
  },
  {
   "cell_type": "code",
   "execution_count": 198,
   "metadata": {
    "collapsed": false
   },
   "outputs": [
    {
     "data": {
      "text/plain": [
       "1028292.72437689"
      ]
     },
     "execution_count": 198,
     "metadata": {},
     "output_type": "execute_result"
    }
   ],
   "source": [
    "mergegdf.center[0].x"
   ]
  },
  {
   "cell_type": "code",
   "execution_count": 199,
   "metadata": {
    "collapsed": true
   },
   "outputs": [],
   "source": [
    "def getX(pt):\n",
    "    return pt.x\n",
    "def getY(pt):\n",
    "    return pt.y"
   ]
  },
  {
   "cell_type": "code",
   "execution_count": 200,
   "metadata": {
    "collapsed": false
   },
   "outputs": [],
   "source": [
    "#centroidlist_x=map(getX,mergegdf['center'].centroid)\n",
    "#centroidlist_y=map(getY,mergegdf['center'].centroid)"
   ]
  },
  {
   "cell_type": "markdown",
   "metadata": {},
   "source": [
    "## Creating 3d numpy array\n",
    "#### Geoff suggested the for loop"
   ]
  },
  {
   "cell_type": "code",
   "execution_count": 201,
   "metadata": {
    "collapsed": false
   },
   "outputs": [],
   "source": [
    "krigdata = np.zeros((len(mergegdf),3))"
   ]
  },
  {
   "cell_type": "code",
   "execution_count": 202,
   "metadata": {
    "collapsed": false
   },
   "outputs": [],
   "source": [
    "krigdata[:,0] = mergegdf['count']\n",
    "for i in range(len(krigdata)):\n",
    "    krigdata[:,1][i] = mergegdf['center'][i].x\n",
    "    krigdata[:,2][i] = mergegdf['center'][i].y"
   ]
  },
  {
   "cell_type": "markdown",
   "metadata": {},
   "source": [
    "## Plotting 3d array with lat and lon as x and y axes plus counts as color"
   ]
  },
  {
   "cell_type": "code",
   "execution_count": 210,
   "metadata": {
    "collapsed": false
   },
   "outputs": [
    {
     "data": {
      "text/plain": [
       "<matplotlib.legend.Legend at 0x7f0b0ba2f490>"
      ]
     },
     "execution_count": 210,
     "metadata": {},
     "output_type": "execute_result"
    },
    {
     "data": {
      "image/png": "[encoded data removed]",
      "text/plain": [
       "<matplotlib.figure.Figure at 0x7f0b08c3d790>"
      ]
     },
     "metadata": {},
     "output_type": "display_data"
    }
   ],
   "source": [
    "pl.figure(figsize=(7,7))\n",
    "pl.scatter(krigdata[:,1], krigdata[:,2], c=krigdata[:,0], s=100, cmap='bone', label=('# of asthma dismissals'))\n",
    "pl.xlabel(\"Easting (m)\", fontsize=12)\n",
    "pl.ylabel(\"Northing (m)\", fontsize=12)\n",
    "pl.title(\"Number of Asthma Dismissals Per NYC Zip Code\", fontsize=18)\n",
    "pl.legend()\n",
    "# legend is not great - really need to show what color shades mean (quantities, ranges)"
   ]
  },
  {
   "cell_type": "markdown",
   "metadata": {},
   "source": [
    "Figure 1: dots are centroids of NYC zip codes included in the asthma data, shade indicates the number of asthma dismissals; I'm assuming darker means more"
   ]
  },
  {
   "cell_type": "code",
   "execution_count": 212,
   "metadata": {
    "collapsed": true
   },
   "outputs": [],
   "source": [
    "squareform?"
   ]
  },
  {
   "cell_type": "code",
   "execution_count": 213,
   "metadata": {
    "collapsed": true
   },
   "outputs": [],
   "source": [
    "def SVh_vctzd( P, h, bw ):\n",
    "    '''\n",
    "    Experimental semivariogram for a single lag\n",
    "    bw max distance\n",
    "    h lag\n",
    "    P data\n",
    "    '''\n",
    "    pdsv = squareform( pdist( P[:,:2] ) )\n",
    "    #print pdsv\n",
    "    N = pdsv.shape[0]\n",
    "    #print N\n",
    "    #print np.triu_indices(N)\n",
    "    Z = np.zeros((N,N))\n",
    "    Z = Z - P[:,2]\n",
    "    #print Z\n",
    "    Z = Z.T + P[:,2]\n",
    "    #print Z\n",
    "    Z = Z**2\n",
    "    #print Z\n",
    "    Zcd =  Z[(pdsv >= h - bw) * (pdsv <= h + bw) * \\\n",
    "            (~np.identity(N, dtype=bool))]\n",
    "\n",
    "    #print Zcd\n",
    "    return np.sum( Zcd ) / ( 2.0 * len( Zcd ) )\n",
    "\n",
    "def SVh( P, h, bw ):\n",
    "    '''\n",
    "    Experimental semivariogram for a single lag\n",
    "    bw max distance\n",
    "    h lag\n",
    "    P data\n",
    "    '''\n",
    "    #distance matrix (eucledian)\n",
    "    pdsv = squareform( pdist( P[:,:2] ) )\n",
    "    #print pdsv\n",
    "    N = pdsv.shape[0]\n",
    "    #print N\n",
    "\n",
    "    Z = list()\n",
    "    for i in range(N):\n",
    "        for j in range(i+1, N):\n",
    "            #select only pair of points at the appropriate lag\n",
    "            if( pdsv[i,j] >= h - bw )and( pdsv[i,j] <= h + bw ):\n",
    "                Z.append( ( P[i,2] - P[j,2] )**2.0 )\n",
    "    #print Z\n",
    "    return np.sum( Z ) / ( 2.0 * len( Z ) )\n",
    "\n",
    "\n",
    "def SV( P, hs, bw ):\n",
    "    '''\n",
    "    Experimental variogram for a collection of lags\n",
    "    '''\n",
    "    sv = list()\n",
    "    for h in hs:\n",
    "        #print h\n",
    "        sv.append( SVh( P, h, bw ) )\n",
    "        #sv.append( SVh_vctzd ( P, h, bw ) )\n",
    "    sv = [ [ hs[i], sv[i] ] for i in range( len( hs ) ) if sv[i] > 0 ]\n",
    "    return np.array( sv ).T"
   ]
  },
  {
   "cell_type": "code",
   "execution_count": 214,
   "metadata": {
    "collapsed": false
   },
   "outputs": [
    {
     "name": "stdout",
     "output_type": "stream",
     "text": [
      "[[0 1 2]\n",
      " [1 2 4]\n",
      " [0 1 3]\n",
      " [3 4 5]]\n",
      "nan\n"
     ]
    }
   ],
   "source": [
    "print np.array([[0,1,2],[1,2,4],[0,1,3],[3,4,5]])\n",
    "#print SVh_vctzd( np.array([[0,1,2],[1,2,4],[0,1,3],[3,4,5]]), 1, 0.2 )\n",
    "print SVh( np.array([[0,1,2],[1,2,4],[0,1,3],[3,4,5]]), 1, 0.2 )"
   ]
  },
  {
   "cell_type": "code",
   "execution_count": 216,
   "metadata": {
    "collapsed": false
   },
   "outputs": [],
   "source": [
    "mysv = SVh(krigdata, 1000, 500)"
   ]
  },
  {
   "cell_type": "code",
   "execution_count": 217,
   "metadata": {
    "collapsed": false
   },
   "outputs": [
    {
     "name": "stdout",
     "output_type": "stream",
     "text": [
      "1000 loops, best of 3: 663 µs per loop\n"
     ]
    }
   ],
   "source": [
    "%timeit -n 1000 mysv = SVh(krigdata, 1000, 500)"
   ]
  },
  {
   "cell_type": "code",
   "execution_count": 218,
   "metadata": {
    "collapsed": false
   },
   "outputs": [
    {
     "name": "stdout",
     "output_type": "stream",
     "text": [
      "1313444550.85\n"
     ]
    }
   ],
   "source": [
    "print  SVh(krigdata, 1000, 500 )"
   ]
  },
  {
   "cell_type": "code",
   "execution_count": 219,
   "metadata": {
    "collapsed": false
   },
   "outputs": [
    {
     "name": "stdout",
     "output_type": "stream",
     "text": [
      "1000 loops, best of 3: 158 µs per loop\n"
     ]
    }
   ],
   "source": [
    "%timeit -n 1000 mysv = SVh_vctzd(krigdata, 1000, 500 )"
   ]
  },
  {
   "cell_type": "code",
   "execution_count": 220,
   "metadata": {
    "collapsed": false
   },
   "outputs": [
    {
     "name": "stdout",
     "output_type": "stream",
     "text": [
      "1313444550.85\n"
     ]
    }
   ],
   "source": [
    "print  SVh_vctzd(krigdata, 1000, 500 )"
   ]
  },
  {
   "cell_type": "code",
   "execution_count": 221,
   "metadata": {
    "collapsed": false
   },
   "outputs": [
    {
     "name": "stdout",
     "output_type": "stream",
     "text": [
      "[[  1.00000000e+00   1.01000000e+02   2.01000000e+02   3.01000000e+02\n",
      "    4.01000000e+02   5.01000000e+02   6.01000000e+02   7.01000000e+02\n",
      "    8.01000000e+02   9.01000000e+02   1.00100000e+03   1.10100000e+03\n",
      "    1.20100000e+03   1.30100000e+03   1.40100000e+03   1.50100000e+03\n",
      "    1.60100000e+03   1.70100000e+03   1.80100000e+03   1.90100000e+03\n",
      "    2.00100000e+03   2.10100000e+03   2.20100000e+03   2.30100000e+03\n",
      "    2.40100000e+03   2.50100000e+03   2.60100000e+03   2.70100000e+03\n",
      "    2.80100000e+03   2.90100000e+03   3.00100000e+03   3.10100000e+03\n",
      "    3.20100000e+03   3.30100000e+03   3.40100000e+03   3.50100000e+03\n",
      "    3.60100000e+03   3.70100000e+03   3.80100000e+03   3.90100000e+03\n",
      "    4.00100000e+03   4.10100000e+03   4.20100000e+03   4.30100000e+03\n",
      "    4.40100000e+03   4.50100000e+03   4.60100000e+03   4.70100000e+03\n",
      "    4.80100000e+03   4.90100000e+03   5.00100000e+03   5.10100000e+03\n",
      "    5.20100000e+03   5.30100000e+03   5.40100000e+03   5.50100000e+03\n",
      "    5.60100000e+03   5.70100000e+03   5.80100000e+03   5.90100000e+03\n",
      "    6.00100000e+03   6.10100000e+03   6.20100000e+03   6.30100000e+03\n",
      "    6.40100000e+03   6.50100000e+03   6.60100000e+03   6.70100000e+03\n",
      "    6.80100000e+03   6.90100000e+03   7.00100000e+03   7.10100000e+03\n",
      "    7.20100000e+03   7.30100000e+03   7.40100000e+03   7.50100000e+03\n",
      "    7.60100000e+03   7.70100000e+03   7.80100000e+03   7.90100000e+03\n",
      "    8.00100000e+03   8.10100000e+03   8.20100000e+03   8.30100000e+03\n",
      "    8.40100000e+03   8.50100000e+03   8.60100000e+03   8.70100000e+03\n",
      "    8.80100000e+03   8.90100000e+03   9.00100000e+03   9.10100000e+03\n",
      "    9.20100000e+03   9.30100000e+03   9.40100000e+03   9.50100000e+03\n",
      "    9.60100000e+03   9.70100000e+03   9.80100000e+03   9.90100000e+03]\n",
      " [  9.71520012e+08   8.72660122e+08   8.72660122e+08   8.72660122e+08\n",
      "    7.06510267e+08   7.49623013e+08   7.75579020e+08   1.13779502e+09\n",
      "    1.13779502e+09   1.00679377e+09   1.31344455e+09   1.20607034e+09\n",
      "    9.32506159e+08   9.32506159e+08   9.44413953e+08   9.47605375e+08\n",
      "    7.96756335e+08   4.82464499e+08   4.29761168e+08   4.29761168e+08\n",
      "    2.70941055e+08   3.00971801e+08   3.57145453e+08   5.25458449e+08\n",
      "    6.42624334e+08   6.13091957e+08   6.43580220e+08   7.15884181e+08\n",
      "    7.49288414e+08   9.66445748e+08   9.66445748e+08   9.29539168e+08\n",
      "    1.21783375e+09   1.10610738e+09   1.02235357e+09   1.24819137e+09\n",
      "    1.33668890e+09   1.41010030e+09   1.53548368e+09   1.16368715e+09\n",
      "    1.05891110e+09   1.12940528e+09   1.00082778e+09   1.11423457e+09\n",
      "    1.19565894e+09   1.11068510e+09   9.51973800e+08   7.00075929e+08\n",
      "    6.70658756e+08   9.53335323e+08   1.09954197e+09   8.58606100e+08\n",
      "    9.71052875e+08   9.71052875e+08   1.15300457e+09   1.01031961e+09\n",
      "    8.98091767e+08   9.41739520e+08   1.33003890e+09   1.20467647e+09\n",
      "    1.07133498e+09   1.28186203e+09   1.28186203e+09   1.01170711e+09\n",
      "    7.37902970e+08   7.67516511e+08   8.59668506e+08   8.02841501e+08\n",
      "    5.11348715e+08   6.61537232e+08   7.27230646e+08   7.30016454e+08\n",
      "    6.76134925e+08   7.77158348e+08   7.35570945e+08   7.81090161e+08\n",
      "    7.65199518e+08   6.64877833e+08   5.85791245e+08   3.88587350e+08\n",
      "    3.88587350e+08   3.88587350e+08   3.96270553e+08   5.79727383e+08\n",
      "    5.69397609e+08   5.73903599e+08   5.57647378e+08   6.08309371e+08\n",
      "    6.93829708e+08   6.07371543e+08   5.88836266e+08   6.15894670e+08\n",
      "    6.52217459e+08   4.60410473e+08   4.24300170e+08   6.49071164e+08\n",
      "    1.03297420e+09   1.03297420e+09   9.22593064e+08   8.54292850e+08]]\n"
     ]
    }
   ],
   "source": [
    "lag = 100\n",
    "mysv = SV(krigdata, np.arange(1, 10000, lag), 500 )\n",
    "print mysv"
   ]
  },
  {
   "cell_type": "markdown",
   "metadata": {},
   "source": [
    "## Plotting Semivariogram"
   ]
  },
  {
   "cell_type": "code",
   "execution_count": 227,
   "metadata": {
    "collapsed": false
   },
   "outputs": [
    {
     "data": {
      "text/plain": [
       "<matplotlib.text.Text at 0x7f0af1513810>"
      ]
     },
     "execution_count": 227,
     "metadata": {},
     "output_type": "execute_result"
    },
    {
     "data": {
      "image/png": "[encoded data removed]",
      "text/plain": [
       "<matplotlib.figure.Figure at 0x7f0af91bf850>"
      ]
     },
     "metadata": {},
     "output_type": "display_data"
    }
   ],
   "source": [
    "# lags in 500 meter increments from zero to 10,000\n",
    "hs = np.arange(0, 10500, lag)\n",
    "#mysv = SV( x, hs, bw )\n",
    "pl.figure(figsize=(8,6))\n",
    "pl.plot( mysv[0], mysv[1], '.-' )\n",
    "pl.xlabel('Lag [m]', fontsize=16)\n",
    "pl.ylabel('Semivariogram', fontsize=16)\n",
    "pl.title('Semivariogram\\nAsthma Dismissals, lag %dm'%lag, fontsize=20) "
   ]
  },
  {
   "cell_type": "markdown",
   "metadata": {},
   "source": [
    "Figure 2: a semivariogram (similarity) of asthma dismissals from hospitals in NYC; it's clear there's no relationship; this is probably because people don't necessarily go to hospitals near where they're getting sick (breathing) and we haven't normalized for the size of the hospital (total number of patients); with no spatial relationship, we can't fit a model to the data, so we can't use kriging to extrapolate missing points"
   ]
  },
  {
   "cell_type": "markdown",
   "metadata": {},
   "source": [
    "## Creating model functions (just to show how unhelpful the models are)"
   ]
  },
  {
   "cell_type": "code",
   "execution_count": 238,
   "metadata": {
    "collapsed": true
   },
   "outputs": [],
   "source": [
    "# different variogram models\n",
    "def opt( fct, x, y, C0, meshSize=1000 ):\n",
    "    parameterRange = [ x[1], x[-1] ]\n",
    "    mse = np.zeros( meshSize )\n",
    "    a = np.linspace( parameterRange[0], parameterRange[1], meshSize )\n",
    "    for i in range( meshSize ):\n",
    "        mse[i] = np.mean( ( y - fct( x, a[i], C0 ) )**2.0 )\n",
    "    return a[ mse.argmin() ]        \n",
    "\n",
    "\n",
    "def spherical( h, a, C0 ):\n",
    "    #print \"sph\"\n",
    "\n",
    "    '''\n",
    "    Spherical model of the semivariogram\n",
    "    '''\n",
    "    # if h is a single digit\n",
    "\n",
    "    \n",
    "    if type(h) == np.float64:\n",
    "        # calculate the spherical function\n",
    "        if h <= a:\n",
    "            return C0*( 1.5*h/a - 0.5*(h/a)**3.0 )\n",
    "        else:\n",
    "            return C0\n",
    "    # if h is an iterable\n",
    "    else:\n",
    "        # calcualte the spherical function for all elements\n",
    "        a = np.ones( h.size ) * a\n",
    "        C0 = np.ones( h.size ) * C0\n",
    "        return map( spherical, h, a, C0 )\n",
    "\n",
    "def exponentialngt(h, a, C0):\n",
    "    #print \"exp\"\n",
    "    '''\n",
    "    Exponential model of the semivariogram\n",
    "    '''\n",
    "    # if h is a single digit\n",
    "    if type(h) == np.float64:\n",
    "        # calculate the spherical function\n",
    "        return C0 - exp(-h/a)\n",
    "    # if h is an iterable\n",
    "    else:\n",
    "        # calcualte the spherical function for all elements\n",
    "        a = np.ones( h.size ) * a\n",
    "        C0 = np.ones( h.size ) * C0\n",
    "        return map( exponentialngt, h, a, C0 )\n",
    "\n",
    "    \n",
    "def gaussianngt(h, a, C0):\n",
    "    #print \"gaus\"\n",
    "    '''\n",
    "    Gaussian model of the semivariogram\n",
    "    '''\n",
    "    # if h is a single digit\n",
    "    if type(h) == np.float64:\n",
    "        # calculate the spherical function\n",
    "        return C0 - exp(-(h/a)**2)\n",
    "    # if h is an iterable\n",
    "    else:\n",
    "        # calcualte the spherical function for all elements\n",
    "        a = np.ones( h.size ) * a\n",
    "        C0 = np.ones( h.size ) * C0\n",
    "        return map( exponentialngt, h, a, C0 )\n",
    "\n",
    "\n",
    "\n",
    "def C( P, h, bw ):\n",
    "    '''\n",
    "    Calculate the sill\n",
    "    '''\n",
    "    c0 = np.var( P[:,2] )\n",
    "    if h == 0:\n",
    "        return c0\n",
    "    return c0 - SVh( P, h, bw )\n",
    "\n",
    "\n",
    "\n",
    "def cvmodel( P, model, hs, bw ):\n",
    "    '''\n",
    "    Input:  (P)      ndarray, data\n",
    "            (model)  modeling function\n",
    "                      - spherical\n",
    "                      - exponentialngt\n",
    "                      - gaussian\n",
    "            (hs)     distances\n",
    "            (bw)     bandwidth\n",
    "    Output: (covfct) function modeling the covariance\n",
    "    '''\n",
    "    # calculate the semivariogram\n",
    "    sv = SV( P, hs, bw )\n",
    "    # calculate the sill\n",
    "    C0 = C( P, hs[0], bw )\n",
    "    #print C0\n",
    "    # calculate the optimal parameters\n",
    "    param = opt( model, sv[0], sv[1], C0 )\n",
    "    # return a covariance function\n",
    "    covfct = lambda h, a = param: C0 - model( h, a, C0 )\n",
    "    return covfct"
   ]
  },
  {
   "cell_type": "code",
   "execution_count": 232,
   "metadata": {
    "collapsed": false
   },
   "outputs": [
    {
     "data": {
      "image/png": "[encoded data removed]",
      "text/plain": [
       "<matplotlib.figure.Figure at 0x7f0b0e56bb10>"
      ]
     },
     "metadata": {},
     "output_type": "display_data"
    }
   ],
   "source": [
    "bw = 500\n",
    "pl.figure(figsize=(8,6))\n",
    "sp = cvmodel(krigdata, model=spherical, hs=np.arange(0,10000, 100 ), bw=bw)\n",
    "#print sp(mysv[0])\n",
    "sphere = sp(mysv[0])\n",
    "pl.plot( mysv[0], mysv[1], '.-' )\n",
    "pl.plot(mysv[0], -sphere+sphere.max())\n",
    "pl.xlabel('Lag [m]', fontsize=20)\n",
    "pl.ylabel('Semivariogram', fontsize=20)\n",
    "pl.title('Semivariogram and cvmodel', fontsize=20) ;"
   ]
  },
  {
   "cell_type": "markdown",
   "metadata": {},
   "source": [
    "Figure 3: obviously the model doesn't fit, so we can't krige anything"
   ]
  }
 ],
 "metadata": {
  "kernelspec": {
   "display_name": "PUI2016_Python2",
   "language": "python",
   "name": "pui2016_python2"
  },
  "language_info": {
   "codemirror_mode": {
    "name": "ipython",
    "version": 2
   },
   "file_extension": ".py",
   "mimetype": "text/x-python",
   "name": "python",
   "nbconvert_exporter": "python",
   "pygments_lexer": "ipython2",
   "version": "2.7.12"
  }
 },
 "nbformat": 4,
 "nbformat_minor": 0
}
